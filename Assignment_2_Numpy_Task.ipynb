{
  "cells": [
    {
      "cell_type": "markdown",
      "metadata": {
        "id": "view-in-github",
        "colab_type": "text"
      },
      "source": [
        "<a href=\"https://colab.research.google.com/github/pdivya-mca/NumPy-Assignment/blob/main/Assignment_2_Numpy_Task.ipynb\" target=\"_parent\"><img src=\"https://colab.research.google.com/assets/colab-badge.svg\" alt=\"Open In Colab\"/></a>"
      ]
    },
    {
      "cell_type": "markdown",
      "metadata": {
        "id": "_hFXgq4jvPKL"
      },
      "source": [
        "# **Numpy**\n",
        "\n"
      ]
    },
    {
      "cell_type": "markdown",
      "metadata": {
        "id": "Gx7v3yyZvPKU"
      },
      "source": [
        "### **1. Import the numpy package under the name `np` (★☆☆)**\n",
        "(**hint**: import … as …)"
      ]
    },
    {
      "cell_type": "code",
      "execution_count": null,
      "metadata": {
        "collapsed": true,
        "id": "DGT6DC99vPKW"
      },
      "outputs": [],
      "source": [
        "import numpy as np"
      ]
    },
    {
      "cell_type": "markdown",
      "metadata": {
        "id": "UhHDgoYAvPKX"
      },
      "source": [
        "### **2. Print the numpy version and the configuration (★☆☆)**\n",
        "\n",
        "(**hint**: np.\\_\\_version\\_\\_, np.show\\_config)"
      ]
    },
    {
      "cell_type": "code",
      "execution_count": null,
      "metadata": {
        "id": "HhnEjnzVvPKY",
        "colab": {
          "base_uri": "https://localhost:8080/"
        },
        "outputId": "f557cb89-d612-4dff-cc57-43f77cce4924"
      },
      "outputs": [
        {
          "output_type": "stream",
          "name": "stdout",
          "text": [
            "1.21.6\n"
          ]
        }
      ],
      "source": [
        "print(np.__version__)"
      ]
    },
    {
      "cell_type": "code",
      "source": [
        "np.show_config()"
      ],
      "metadata": {
        "colab": {
          "base_uri": "https://localhost:8080/"
        },
        "id": "1lYHi1m_zz59",
        "outputId": "a88241c6-4b66-4d9f-8e4d-7fac2ab3b9a7"
      },
      "execution_count": null,
      "outputs": [
        {
          "output_type": "stream",
          "name": "stdout",
          "text": [
            "blas_mkl_info:\n",
            "  NOT AVAILABLE\n",
            "blis_info:\n",
            "  NOT AVAILABLE\n",
            "openblas_info:\n",
            "    libraries = ['openblas', 'openblas']\n",
            "    library_dirs = ['/usr/local/lib']\n",
            "    language = c\n",
            "    define_macros = [('HAVE_CBLAS', None)]\n",
            "    runtime_library_dirs = ['/usr/local/lib']\n",
            "blas_opt_info:\n",
            "    libraries = ['openblas', 'openblas']\n",
            "    library_dirs = ['/usr/local/lib']\n",
            "    language = c\n",
            "    define_macros = [('HAVE_CBLAS', None)]\n",
            "    runtime_library_dirs = ['/usr/local/lib']\n",
            "lapack_mkl_info:\n",
            "  NOT AVAILABLE\n",
            "openblas_lapack_info:\n",
            "    libraries = ['openblas', 'openblas']\n",
            "    library_dirs = ['/usr/local/lib']\n",
            "    language = c\n",
            "    define_macros = [('HAVE_CBLAS', None)]\n",
            "    runtime_library_dirs = ['/usr/local/lib']\n",
            "lapack_opt_info:\n",
            "    libraries = ['openblas', 'openblas']\n",
            "    library_dirs = ['/usr/local/lib']\n",
            "    language = c\n",
            "    define_macros = [('HAVE_CBLAS', None)]\n",
            "    runtime_library_dirs = ['/usr/local/lib']\n",
            "Supported SIMD extensions in this NumPy install:\n",
            "    baseline = SSE,SSE2,SSE3\n",
            "    found = SSSE3,SSE41,POPCNT,SSE42,AVX,F16C,FMA3,AVX2\n",
            "    not found = AVX512F,AVX512CD,AVX512_KNL,AVX512_KNM,AVX512_SKX,AVX512_CLX,AVX512_CNL,AVX512_ICL\n"
          ]
        }
      ]
    },
    {
      "cell_type": "markdown",
      "metadata": {
        "id": "ZIhlCf4pvPKZ"
      },
      "source": [
        "## ***3. Create a null vector of size 10 (★☆☆) ***\n",
        "(**hint**: np.zeros)"
      ]
    },
    {
      "cell_type": "code",
      "execution_count": null,
      "metadata": {
        "id": "wvVUPmTwvPKa",
        "colab": {
          "base_uri": "https://localhost:8080/"
        },
        "outputId": "c545297f-ae99-4d9b-8a1d-4b46dfb5c33b"
      },
      "outputs": [
        {
          "output_type": "execute_result",
          "data": {
            "text/plain": [
              "array([0., 0., 0., 0., 0., 0., 0., 0., 0., 0.])"
            ]
          },
          "metadata": {},
          "execution_count": 9
        }
      ],
      "source": [
        "x=np.zeros(10)\n",
        "x"
      ]
    },
    {
      "cell_type": "markdown",
      "metadata": {
        "id": "-xpUDgNevPKd"
      },
      "source": [
        "## ***4.  How to find the memory size of any array (★☆☆)***\n",
        "(**hint**: size, itemsize)"
      ]
    },
    {
      "cell_type": "code",
      "execution_count": null,
      "metadata": {
        "id": "wDrloDievPKe",
        "colab": {
          "base_uri": "https://localhost:8080/"
        },
        "outputId": "728c110b-572f-41e0-fe31-0e06498520b7"
      },
      "outputs": [
        {
          "output_type": "stream",
          "name": "stdout",
          "text": [
            "10\n"
          ]
        }
      ],
      "source": [
        "print(x.size) #size of an array"
      ]
    },
    {
      "cell_type": "code",
      "source": [
        "print(x.itemsize) # size of single element of ana array"
      ],
      "metadata": {
        "colab": {
          "base_uri": "https://localhost:8080/"
        },
        "id": "KMi--jAG1VLU",
        "outputId": "46b89c04-1a6a-419b-ede5-8cb7140b6920"
      },
      "execution_count": null,
      "outputs": [
        {
          "output_type": "stream",
          "name": "stdout",
          "text": [
            "8\n"
          ]
        }
      ]
    },
    {
      "cell_type": "markdown",
      "metadata": {
        "id": "wnrK22bkvPKf"
      },
      "source": [
        "### ***5.  How to get the documentation of the numpy add function from the command line? (★☆☆) ***\n",
        "(**hint**: np.info)"
      ]
    },
    {
      "cell_type": "code",
      "source": [
        "np.info(np.add)"
      ],
      "metadata": {
        "colab": {
          "base_uri": "https://localhost:8080/"
        },
        "id": "H2W8zDx0pgPN",
        "outputId": "78d6fe81-f8ee-4d20-d926-5730a00985e9"
      },
      "execution_count": null,
      "outputs": [
        {
          "output_type": "stream",
          "name": "stdout",
          "text": [
            "add(x1, x2, /, out=None, *, where=True, casting='same_kind', order='K', dtype=None, subok=True[, signature, extobj])\n",
            "\n",
            "Add arguments element-wise.\n",
            "\n",
            "Parameters\n",
            "----------\n",
            "x1, x2 : array_like\n",
            "    The arrays to be added.\n",
            "    If ``x1.shape != x2.shape``, they must be broadcastable to a common\n",
            "    shape (which becomes the shape of the output).\n",
            "out : ndarray, None, or tuple of ndarray and None, optional\n",
            "    A location into which the result is stored. If provided, it must have\n",
            "    a shape that the inputs broadcast to. If not provided or None,\n",
            "    a freshly-allocated array is returned. A tuple (possible only as a\n",
            "    keyword argument) must have length equal to the number of outputs.\n",
            "where : array_like, optional\n",
            "    This condition is broadcast over the input. At locations where the\n",
            "    condition is True, the `out` array will be set to the ufunc result.\n",
            "    Elsewhere, the `out` array will retain its original value.\n",
            "    Note that if an uninitialized `out` array is created via the default\n",
            "    ``out=None``, locations within it where the condition is False will\n",
            "    remain uninitialized.\n",
            "**kwargs\n",
            "    For other keyword-only arguments, see the\n",
            "    :ref:`ufunc docs <ufuncs.kwargs>`.\n",
            "\n",
            "Returns\n",
            "-------\n",
            "add : ndarray or scalar\n",
            "    The sum of `x1` and `x2`, element-wise.\n",
            "    This is a scalar if both `x1` and `x2` are scalars.\n",
            "\n",
            "Notes\n",
            "-----\n",
            "Equivalent to `x1` + `x2` in terms of array broadcasting.\n",
            "\n",
            "Examples\n",
            "--------\n",
            ">>> np.add(1.0, 4.0)\n",
            "5.0\n",
            ">>> x1 = np.arange(9.0).reshape((3, 3))\n",
            ">>> x2 = np.arange(3.0)\n",
            ">>> np.add(x1, x2)\n",
            "array([[  0.,   2.,   4.],\n",
            "       [  3.,   5.,   7.],\n",
            "       [  6.,   8.,  10.]])\n",
            "\n",
            "The ``+`` operator can be used as a shorthand for ``np.add`` on ndarrays.\n",
            "\n",
            ">>> x1 = np.arange(9.0).reshape((3, 3))\n",
            ">>> x2 = np.arange(3.0)\n",
            ">>> x1 + x2\n",
            "array([[ 0.,  2.,  4.],\n",
            "       [ 3.,  5.,  7.],\n",
            "       [ 6.,  8., 10.]])\n"
          ]
        }
      ]
    },
    {
      "cell_type": "markdown",
      "metadata": {
        "id": "AVPJ6xIwvPKg"
      },
      "source": [
        "### **6.  Create a null vector of size 10 but the fifth value which is 1 (★☆☆)**\n",
        "(**hint**: array\\[4\\])"
      ]
    },
    {
      "cell_type": "code",
      "execution_count": null,
      "metadata": {
        "id": "FAriN6YXvPKh",
        "colab": {
          "base_uri": "https://localhost:8080/"
        },
        "outputId": "da6773a6-8762-440e-a071-b133406a9f5d"
      },
      "outputs": [
        {
          "output_type": "execute_result",
          "data": {
            "text/plain": [
              "array([0., 0., 0., 0., 1., 0., 0., 0., 0., 0.])"
            ]
          },
          "metadata": {},
          "execution_count": 4
        }
      ],
      "source": [
        "x = np.zeros(10)\n",
        "x[4] = 1\n",
        "x"
      ]
    },
    {
      "cell_type": "markdown",
      "metadata": {
        "id": "G-y8rz1HvPKh"
      },
      "source": [
        "## ***7.  Create a vector with values ranging from 10 to 49 (★☆☆) ***\n",
        "(**hint**: np.arange)"
      ]
    },
    {
      "cell_type": "code",
      "execution_count": null,
      "metadata": {
        "id": "HryEEjdEvPKi",
        "colab": {
          "base_uri": "https://localhost:8080/"
        },
        "outputId": "535aa9f8-9477-46a0-855d-40666882b54a"
      },
      "outputs": [
        {
          "output_type": "execute_result",
          "data": {
            "text/plain": [
              "array([10, 11, 12, 13, 14, 15, 16, 17, 18, 19, 20, 21, 22, 23, 24, 25, 26,\n",
              "       27, 28, 29, 30, 31, 32, 33, 34, 35, 36, 37, 38, 39, 40, 41, 42, 43,\n",
              "       44, 45, 46, 47, 48, 49])"
            ]
          },
          "metadata": {},
          "execution_count": 13
        }
      ],
      "source": [
        "np.arange(10,50)"
      ]
    },
    {
      "cell_type": "markdown",
      "metadata": {
        "id": "cofMhASSvPKj"
      },
      "source": [
        "## ***8.  Reverse a vector (first element becomes last) (★☆☆) ***\n",
        "(**hint**: array\\[::-1\\])"
      ]
    },
    {
      "cell_type": "code",
      "execution_count": null,
      "metadata": {
        "id": "KmYJYMSXvPKj",
        "colab": {
          "base_uri": "https://localhost:8080/"
        },
        "outputId": "585db0a1-1fe6-48a3-eb25-98fd3722dc62"
      },
      "outputs": [
        {
          "output_type": "execute_result",
          "data": {
            "text/plain": [
              "[5, 4, 3, 2, 1]"
            ]
          },
          "metadata": {},
          "execution_count": 14
        }
      ],
      "source": [
        "x=[1,2,3,4,5]\n",
        "x[::-1]"
      ]
    },
    {
      "cell_type": "markdown",
      "metadata": {
        "id": "ERUEoFjnvPKk"
      },
      "source": [
        "## ***9.  Create a 3x3 matrix with values ranging from 0 to 8 (★☆☆) ***\n",
        "(**hint**: reshape)"
      ]
    },
    {
      "cell_type": "code",
      "execution_count": null,
      "metadata": {
        "id": "c8S3pqZ-vPKl",
        "colab": {
          "base_uri": "https://localhost:8080/"
        },
        "outputId": "ea94cd25-7843-433f-d823-defb98c0e9e6"
      },
      "outputs": [
        {
          "output_type": "execute_result",
          "data": {
            "text/plain": [
              "array([[0, 1, 2],\n",
              "       [3, 4, 5],\n",
              "       [6, 7, 8]])"
            ]
          },
          "metadata": {},
          "execution_count": 15
        }
      ],
      "source": [
        "np.arange(0,9).reshape(3,3)"
      ]
    },
    {
      "cell_type": "markdown",
      "metadata": {
        "id": "1cLR124evPKm"
      },
      "source": [
        "## ***10. Find indices of non-zero elements from \\[1,2,0,0,4,0\\] (★☆☆) ***\n",
        "(**hint**: np.nonzero)"
      ]
    },
    {
      "cell_type": "code",
      "execution_count": null,
      "metadata": {
        "id": "ahT_yfYLvPKo",
        "colab": {
          "base_uri": "https://localhost:8080/"
        },
        "outputId": "760ffdd4-d25a-49b7-b0ac-5e41e8051182"
      },
      "outputs": [
        {
          "output_type": "execute_result",
          "data": {
            "text/plain": [
              "(array([0, 1, 4]),)"
            ]
          },
          "metadata": {},
          "execution_count": 16
        }
      ],
      "source": [
        "x=[1,2,0,0,4,0]\n",
        "np.nonzero(x)"
      ]
    },
    {
      "cell_type": "markdown",
      "metadata": {
        "id": "v8ViWdusvPKt"
      },
      "source": [
        "## ***11. Create a 3x3 identity matrix (★☆☆) ***\n",
        "(**hint**: np.eye)"
      ]
    },
    {
      "cell_type": "code",
      "execution_count": null,
      "metadata": {
        "id": "uMnHxXRVvPKu",
        "colab": {
          "base_uri": "https://localhost:8080/"
        },
        "outputId": "ed8bd3c7-92e4-4cde-8f90-8108a75486e3"
      },
      "outputs": [
        {
          "output_type": "execute_result",
          "data": {
            "text/plain": [
              "array([[1., 0., 0.],\n",
              "       [0., 1., 0.],\n",
              "       [0., 0., 1.]])"
            ]
          },
          "metadata": {},
          "execution_count": 17
        }
      ],
      "source": [
        "np.eye(3)"
      ]
    },
    {
      "cell_type": "markdown",
      "metadata": {
        "id": "u2hjTSpZvPKu"
      },
      "source": [
        "## ***12. Create a 3x3x3 array with random values (★☆☆) ***\n",
        "(**hint**: np.random.random)"
      ]
    },
    {
      "cell_type": "code",
      "execution_count": null,
      "metadata": {
        "collapsed": true,
        "id": "0UnuVDePvPKw",
        "colab": {
          "base_uri": "https://localhost:8080/"
        },
        "outputId": "24a195b4-d47d-4c88-c3e0-7af25d531b08"
      },
      "outputs": [
        {
          "output_type": "execute_result",
          "data": {
            "text/plain": [
              "array([[[0.12552402, 0.03761838, 0.29838475],\n",
              "        [0.30055844, 0.95346415, 0.23871003],\n",
              "        [0.18437805, 0.90393906, 0.885431  ]],\n",
              "\n",
              "       [[0.2482282 , 0.48635809, 0.27413671],\n",
              "        [0.55602908, 0.47657776, 0.36949706],\n",
              "        [0.41113059, 0.38009279, 0.39223043]],\n",
              "\n",
              "       [[0.57130818, 0.54634865, 0.34622136],\n",
              "        [0.25974093, 0.43952139, 0.33905128],\n",
              "        [0.47633965, 0.32655119, 0.93765677]]])"
            ]
          },
          "metadata": {},
          "execution_count": 18
        }
      ],
      "source": [
        "np.random.random((3,3,3))"
      ]
    },
    {
      "cell_type": "markdown",
      "metadata": {
        "id": "dfyLQGx8vPKw"
      },
      "source": [
        "## ***13. Create a 10x10 array with random values and find the minimum and maximum values (★☆☆) ***\n",
        "(**hint**: min, max)"
      ]
    },
    {
      "cell_type": "code",
      "execution_count": null,
      "metadata": {
        "id": "w93dEo8FvPKx",
        "colab": {
          "base_uri": "https://localhost:8080/"
        },
        "outputId": "1638cc97-9c26-4a9f-f325-6d7817227b85"
      },
      "outputs": [
        {
          "output_type": "execute_result",
          "data": {
            "text/plain": [
              "array([[0.12883204, 0.63656492, 0.04928488, 0.75629567, 0.43975722,\n",
              "        0.97755374, 0.23966693, 0.13799675, 0.83672615, 0.97009848],\n",
              "       [0.95276699, 0.61170311, 0.39533583, 0.7791011 , 0.18055429,\n",
              "        0.48738167, 0.2758223 , 0.62973096, 0.96496339, 0.24467451],\n",
              "       [0.3991995 , 0.31664242, 0.36055005, 0.15640875, 0.7358679 ,\n",
              "        0.9108967 , 0.03571251, 0.83569065, 0.86857278, 0.13224866],\n",
              "       [0.49682291, 0.30302241, 0.06678695, 0.08233631, 0.05710401,\n",
              "        0.51630094, 0.41572298, 0.00960852, 0.76762887, 0.5208889 ],\n",
              "       [0.27702881, 0.00895595, 0.18833253, 0.23021909, 0.57708984,\n",
              "        0.15333429, 0.64561319, 0.94747607, 0.77400259, 0.55872019],\n",
              "       [0.34205762, 0.59175356, 0.861053  , 0.89610565, 0.01162341,\n",
              "        0.72150334, 0.52528498, 0.18701999, 0.51294327, 0.65210107],\n",
              "       [0.15268694, 0.01344064, 0.03750524, 0.37163396, 0.2627494 ,\n",
              "        0.95334785, 0.00636536, 0.84478389, 0.67148884, 0.59440652],\n",
              "       [0.09111761, 0.12021797, 0.81034256, 0.12253798, 0.69913447,\n",
              "        0.5886753 , 0.98445072, 0.03367721, 0.73359211, 0.62068296],\n",
              "       [0.39461417, 0.5955025 , 0.0889246 , 0.67150609, 0.99534694,\n",
              "        0.00837697, 0.26498249, 0.18704871, 0.48565241, 0.65325658],\n",
              "       [0.95195391, 0.27755546, 0.94716904, 0.13416702, 0.51772414,\n",
              "        0.83965667, 0.70959624, 0.60071485, 0.93510969, 0.56080488]])"
            ]
          },
          "metadata": {},
          "execution_count": 19
        }
      ],
      "source": [
        "x=np.random.random((10,10))\n",
        "x"
      ]
    },
    {
      "cell_type": "code",
      "source": [
        "np.min(x)"
      ],
      "metadata": {
        "colab": {
          "base_uri": "https://localhost:8080/"
        },
        "id": "JH7-qymZ3g7A",
        "outputId": "976034b7-a1fe-4866-d5df-753704914b02"
      },
      "execution_count": null,
      "outputs": [
        {
          "output_type": "execute_result",
          "data": {
            "text/plain": [
              "0.006365355127730288"
            ]
          },
          "metadata": {},
          "execution_count": 20
        }
      ]
    },
    {
      "cell_type": "code",
      "source": [
        "np.max(x)"
      ],
      "metadata": {
        "colab": {
          "base_uri": "https://localhost:8080/"
        },
        "id": "d8tQjyas3lsN",
        "outputId": "cbfdb4fe-2159-4499-a05f-3a3970e86d1e"
      },
      "execution_count": null,
      "outputs": [
        {
          "output_type": "execute_result",
          "data": {
            "text/plain": [
              "0.9953469364415892"
            ]
          },
          "metadata": {},
          "execution_count": 21
        }
      ]
    },
    {
      "cell_type": "markdown",
      "metadata": {
        "id": "KV-i-3lmvPKx"
      },
      "source": [
        "## ***14. Create a random vector of size 30 and find the mean value (★☆☆) ***\n",
        "(**hint**: mean)"
      ]
    },
    {
      "cell_type": "code",
      "execution_count": null,
      "metadata": {
        "id": "6BisScIFvPKy",
        "colab": {
          "base_uri": "https://localhost:8080/"
        },
        "outputId": "e8434190-4683-4ca8-db48-bf9773c218b0"
      },
      "outputs": [
        {
          "output_type": "execute_result",
          "data": {
            "text/plain": [
              "array([0.19380333, 0.70470141, 0.20779362, 0.15237085, 0.18034972,\n",
              "       0.31418564, 0.81139876, 0.85373452, 0.18585269, 0.70889756,\n",
              "       0.32191691, 0.26991921, 0.0661836 , 0.99819829, 0.80217901,\n",
              "       0.60310484, 0.29443716, 0.35600544, 0.86683332, 0.86852543,\n",
              "       0.61292469, 0.61278894, 0.62051444, 0.46124972, 0.70549111,\n",
              "       0.28054028, 0.25120463, 0.88892908, 0.14681747, 0.43749678])"
            ]
          },
          "metadata": {},
          "execution_count": 22
        }
      ],
      "source": [
        "x=np.random.rand(30)\n",
        "x"
      ]
    },
    {
      "cell_type": "code",
      "source": [
        "np.mean(x)"
      ],
      "metadata": {
        "colab": {
          "base_uri": "https://localhost:8080/"
        },
        "id": "vY0Ms3WU4NmO",
        "outputId": "97f34bbc-d1a2-4853-ef79-14574a0d3f33"
      },
      "execution_count": null,
      "outputs": [
        {
          "output_type": "execute_result",
          "data": {
            "text/plain": [
              "0.49261161580981855"
            ]
          },
          "metadata": {},
          "execution_count": 23
        }
      ]
    },
    {
      "cell_type": "markdown",
      "metadata": {
        "id": "68euFjdAvPKy"
      },
      "source": [
        "## ***15. Create a 2d array with 1 on the border and 0 inside (★☆☆) ***\n",
        "(**hint**: array\\[1:-1, 1:-1\\])"
      ]
    },
    {
      "cell_type": "code",
      "execution_count": null,
      "metadata": {
        "id": "BAsK9NwRvPKz",
        "colab": {
          "base_uri": "https://localhost:8080/"
        },
        "outputId": "b66a3cc3-b300-4a32-e931-f4ee7c2b99a4"
      },
      "outputs": [
        {
          "output_type": "execute_result",
          "data": {
            "text/plain": [
              "array([[1., 1., 1., 1., 1.],\n",
              "       [1., 0., 0., 0., 1.],\n",
              "       [1., 0., 0., 0., 1.],\n",
              "       [1., 0., 0., 0., 1.],\n",
              "       [1., 1., 1., 1., 1.]])"
            ]
          },
          "metadata": {},
          "execution_count": 27
        }
      ],
      "source": [
        "x=np.ones((5,5))\n",
        "x[1:-1, 1:-1]=0\n",
        "x"
      ]
    },
    {
      "cell_type": "markdown",
      "metadata": {
        "id": "GYaxX47FvPKz"
      },
      "source": [
        "## ***16. How to add a border (filled with 0's) around an existing array? (★☆☆) ***\n",
        "(**hint**: np.pad)"
      ]
    },
    {
      "cell_type": "code",
      "execution_count": null,
      "metadata": {
        "id": "KgXZ7KcJvPKz",
        "colab": {
          "base_uri": "https://localhost:8080/"
        },
        "outputId": "874419cd-935b-4542-cac8-b04a96a44087"
      },
      "outputs": [
        {
          "output_type": "execute_result",
          "data": {
            "text/plain": [
              "array([[0., 0., 0., 0., 0., 0., 0.],\n",
              "       [0., 1., 1., 1., 1., 1., 0.],\n",
              "       [0., 1., 1., 1., 1., 1., 0.],\n",
              "       [0., 1., 1., 1., 1., 1., 0.],\n",
              "       [0., 1., 1., 1., 1., 1., 0.],\n",
              "       [0., 1., 1., 1., 1., 1., 0.],\n",
              "       [0., 0., 0., 0., 0., 0., 0.]])"
            ]
          },
          "metadata": {},
          "execution_count": 28
        }
      ],
      "source": [
        "x=np.ones((5,5))\n",
        "np.pad(x,pad_width=1, mode='constant', constant_values=0)"
      ]
    },
    {
      "cell_type": "markdown",
      "metadata": {
        "id": "JtC_9kpyvPK0"
      },
      "source": [
        "## ***17. What is the result of the following expression? (★☆☆) ***\n",
        "(**hint**: NaN = not a number, inf = infinity)"
      ]
    },
    {
      "cell_type": "markdown",
      "metadata": {
        "id": "5x2rhTRZvPK1"
      },
      "source": [
        "```python\n",
        "0 * np.nan\n",
        "np.nan == np.nan\n",
        "np.inf > np.nan\n",
        "np.nan - np.nan\n",
        "0.3 == 3 * 0.1\n",
        "```"
      ]
    },
    {
      "cell_type": "code",
      "execution_count": null,
      "metadata": {
        "id": "g7nLEDrIvPK2",
        "colab": {
          "base_uri": "https://localhost:8080/"
        },
        "outputId": "93648b32-c342-40a8-8726-9bd3be61c7f2"
      },
      "outputs": [
        {
          "output_type": "stream",
          "name": "stdout",
          "text": [
            "nan\n",
            "False\n",
            "False\n",
            "nan\n",
            "False\n"
          ]
        }
      ],
      "source": [
        "print(0 * np.nan)\n",
        "print(np.nan == np.nan)\n",
        "print(np.inf > np.nan)\n",
        "print(np.nan - np.nan)\n",
        "print(0.3 == 3 * 0.1)"
      ]
    },
    {
      "cell_type": "markdown",
      "metadata": {
        "id": "qTOCLostvPK3"
      },
      "source": [
        "## ***18. Create a 5x5 matrix with values 1,2,3,4 just below the diagonal (★☆☆) ***\n",
        "(**hint**: np.diag)"
      ]
    },
    {
      "cell_type": "code",
      "execution_count": null,
      "metadata": {
        "id": "-C1ABPdNvPK3",
        "colab": {
          "base_uri": "https://localhost:8080/"
        },
        "outputId": "31e00d9a-0458-4f79-fa67-ce2189a1f03e"
      },
      "outputs": [
        {
          "output_type": "execute_result",
          "data": {
            "text/plain": [
              "array([[0, 0, 0, 0, 0],\n",
              "       [1, 0, 0, 0, 0],\n",
              "       [0, 2, 0, 0, 0],\n",
              "       [0, 0, 3, 0, 0],\n",
              "       [0, 0, 0, 4, 0]])"
            ]
          },
          "metadata": {},
          "execution_count": 34
        }
      ],
      "source": [
        "x = np.diag([1,2,3,4], k=-1)\n",
        "x"
      ]
    },
    {
      "cell_type": "markdown",
      "metadata": {
        "id": "V4VgY8dVvPK4"
      },
      "source": [
        "## ***19. Create a 8x8 matrix and fill it with a checkerboard pattern (★☆☆) ***\n",
        "(**hint**: array\\[::2\\])"
      ]
    },
    {
      "cell_type": "code",
      "execution_count": null,
      "metadata": {
        "id": "qZwfTx_2vPK4",
        "colab": {
          "base_uri": "https://localhost:8080/"
        },
        "outputId": "56ca86a8-cae1-4323-a6be-6d83b2c6250c"
      },
      "outputs": [
        {
          "output_type": "execute_result",
          "data": {
            "text/plain": [
              "array([[0., 1., 0., 1., 0., 1., 0., 1.],\n",
              "       [1., 0., 1., 0., 1., 0., 1., 0.],\n",
              "       [0., 1., 0., 1., 0., 1., 0., 1.],\n",
              "       [1., 0., 1., 0., 1., 0., 1., 0.],\n",
              "       [0., 1., 0., 1., 0., 1., 0., 1.],\n",
              "       [1., 0., 1., 0., 1., 0., 1., 0.],\n",
              "       [0., 1., 0., 1., 0., 1., 0., 1.],\n",
              "       [1., 0., 1., 0., 1., 0., 1., 0.]])"
            ]
          },
          "metadata": {},
          "execution_count": 5
        }
      ],
      "source": [
        "x = np.ones((8,8))\n",
        "x[::2]=0\n",
        "x[::2,1::2] = 1\n",
        "x[1::2,1::2]=0\n",
        "x"
      ]
    },
    {
      "cell_type": "markdown",
      "metadata": {
        "id": "CPktG1_2vPK5"
      },
      "source": [
        "### **20. Consider a (6,7,8) shape array, what is the index (x,y,z) of the 100th element?**\n",
        "(**hint**: np.unravel_index)"
      ]
    },
    {
      "cell_type": "code",
      "execution_count": null,
      "metadata": {
        "id": "D3USFA-ZvPK5",
        "colab": {
          "base_uri": "https://localhost:8080/"
        },
        "outputId": "cb55acf9-5d38-4bb7-dca4-05469f128b3c"
      },
      "outputs": [
        {
          "output_type": "stream",
          "name": "stdout",
          "text": [
            "(1, 5, 4)\n"
          ]
        }
      ],
      "source": [
        "print(np.unravel_index(100, (6,7,8)))"
      ]
    },
    {
      "cell_type": "markdown",
      "metadata": {
        "id": "VJ4MygE6vPK6"
      },
      "source": [
        "## ***21. Create a checkerboard 8x8 matrix using the tile function (★☆☆) ***\n",
        "(**hint**: np.tile)"
      ]
    },
    {
      "cell_type": "code",
      "execution_count": null,
      "metadata": {
        "id": "72Q8t66XvPK6",
        "colab": {
          "base_uri": "https://localhost:8080/"
        },
        "outputId": "f7944c17-be72-44b4-8e5f-0529ce2ad5dc"
      },
      "outputs": [
        {
          "output_type": "execute_result",
          "data": {
            "text/plain": [
              "array([[1., 0., 1., 0., 1., 0., 1., 0., 1., 0., 1., 0., 1., 0., 1., 0.],\n",
              "       [0., 1., 0., 1., 0., 1., 0., 1., 0., 1., 0., 1., 0., 1., 0., 1.],\n",
              "       [1., 0., 1., 0., 1., 0., 1., 0., 1., 0., 1., 0., 1., 0., 1., 0.],\n",
              "       [0., 1., 0., 1., 0., 1., 0., 1., 0., 1., 0., 1., 0., 1., 0., 1.],\n",
              "       [1., 0., 1., 0., 1., 0., 1., 0., 1., 0., 1., 0., 1., 0., 1., 0.],\n",
              "       [0., 1., 0., 1., 0., 1., 0., 1., 0., 1., 0., 1., 0., 1., 0., 1.],\n",
              "       [1., 0., 1., 0., 1., 0., 1., 0., 1., 0., 1., 0., 1., 0., 1., 0.],\n",
              "       [0., 1., 0., 1., 0., 1., 0., 1., 0., 1., 0., 1., 0., 1., 0., 1.],\n",
              "       [1., 0., 1., 0., 1., 0., 1., 0., 1., 0., 1., 0., 1., 0., 1., 0.],\n",
              "       [0., 1., 0., 1., 0., 1., 0., 1., 0., 1., 0., 1., 0., 1., 0., 1.],\n",
              "       [1., 0., 1., 0., 1., 0., 1., 0., 1., 0., 1., 0., 1., 0., 1., 0.],\n",
              "       [0., 1., 0., 1., 0., 1., 0., 1., 0., 1., 0., 1., 0., 1., 0., 1.],\n",
              "       [1., 0., 1., 0., 1., 0., 1., 0., 1., 0., 1., 0., 1., 0., 1., 0.],\n",
              "       [0., 1., 0., 1., 0., 1., 0., 1., 0., 1., 0., 1., 0., 1., 0., 1.],\n",
              "       [1., 0., 1., 0., 1., 0., 1., 0., 1., 0., 1., 0., 1., 0., 1., 0.],\n",
              "       [0., 1., 0., 1., 0., 1., 0., 1., 0., 1., 0., 1., 0., 1., 0., 1.]])"
            ]
          },
          "metadata": {},
          "execution_count": 38
        }
      ],
      "source": [
        "x = np.eye(2)\n",
        "y = np.tile(x,(8,8))\n",
        "y"
      ]
    },
    {
      "cell_type": "markdown",
      "metadata": {
        "id": "rKnj1mvPvPK7"
      },
      "source": [
        "22. Normalize a 5x5 random matrix (★☆☆) \n",
        "(**hint**: (x - min) / (max - min))"
      ]
    },
    {
      "cell_type": "markdown",
      "metadata": {
        "id": "fYgt_rWnvPK8"
      },
      "source": [
        "### ***#### 23. Create a custom dtype that describes a color as four unsigned bytes (RGBA) (★☆☆) ***\n",
        "(**hint**: np.dtype)"
      ]
    },
    {
      "cell_type": "code",
      "execution_count": null,
      "metadata": {
        "collapsed": true,
        "id": "bBbyKovlvPK8"
      },
      "outputs": [],
      "source": [
        "color = np.dtype([(\"r\", np.ubyte),\n",
        "                  (\"g\", np.ubyte),\n",
        "                  (\"b\", np.ubyte),\n",
        "                  (\"a\", np.ubyte)])"
      ]
    },
    {
      "cell_type": "markdown",
      "metadata": {
        "id": "vmo_dgojvPK8"
      },
      "source": [
        "## ***24. Multiply a 5x3 matrix by a 3x2 matrix (real matrix product) (★☆☆) ***\n",
        "(**hint**: np.dot | @)"
      ]
    },
    {
      "cell_type": "code",
      "execution_count": null,
      "metadata": {
        "id": "PsyioAJqvPK8",
        "colab": {
          "base_uri": "https://localhost:8080/"
        },
        "outputId": "b6870776-d986-4bd4-d669-d4424f53a457"
      },
      "outputs": [
        {
          "output_type": "stream",
          "name": "stdout",
          "text": [
            "[[ 1  2  3]\n",
            " [ 4  5  6]\n",
            " [ 7  8  9]\n",
            " [10 11 12]\n",
            " [13 14 15]]\n",
            "[[1 2]\n",
            " [3 4]\n",
            " [5 6]]\n",
            "[[ 22  28]\n",
            " [ 49  64]\n",
            " [ 76 100]\n",
            " [103 136]\n",
            " [130 172]]\n"
          ]
        }
      ],
      "source": [
        "x1 = np.arange(1,16).reshape(5,3)\n",
        "x2 = np.arange(1,7).reshape(3,2)\n",
        "z = np.dot(x1,x2)\n",
        "print(x1, x2, z ,sep='\\n')"
      ]
    },
    {
      "cell_type": "markdown",
      "metadata": {
        "id": "clCghC3xvPK8"
      },
      "source": [
        "### ***#### 25. Given a 1D array, negate all elements which are between 3 and 8, in place. (★☆☆) ***\n",
        "(**hint**: >, <=)"
      ]
    },
    {
      "cell_type": "code",
      "execution_count": null,
      "metadata": {
        "id": "jJ6UGMIWvPK9",
        "colab": {
          "base_uri": "https://localhost:8080/"
        },
        "outputId": "186ec655-6dd1-4685-ce07-0ed7243b0111"
      },
      "outputs": [
        {
          "output_type": "stream",
          "name": "stdout",
          "text": [
            "[ 0  1  2  3 -4 -5 -6 -7 -8  9 10]\n"
          ]
        }
      ],
      "source": [
        "Z = np.arange(11)\n",
        "Z[(3 < Z) & (Z <= 8)] *= -1\n",
        "print(Z)"
      ]
    },
    {
      "cell_type": "markdown",
      "metadata": {
        "id": "cv2i3qFFvPK9"
      },
      "source": [
        "## ***26. What is the output of the following script? (★☆☆) ***\n",
        "(**hint**: np.sum)"
      ]
    },
    {
      "cell_type": "markdown",
      "metadata": {
        "id": "39AsX6c6vPK9"
      },
      "source": [
        "```python\n",
        "# Author: Jake VanderPlas\n",
        "\n",
        "print(sum(range(5),-1))\n",
        "from numpy import *\n",
        "print(sum(range(5),-1))\n",
        "```"
      ]
    },
    {
      "cell_type": "code",
      "execution_count": null,
      "metadata": {
        "id": "e9kc_wdjvPK9",
        "colab": {
          "base_uri": "https://localhost:8080/"
        },
        "outputId": "a7d8dd5c-ffec-4bff-b235-d9a57d9dd0b2"
      },
      "outputs": [
        {
          "output_type": "stream",
          "name": "stdout",
          "text": [
            "10\n",
            "10\n"
          ]
        }
      ],
      "source": [
        "print(np.sum(range(5),-1))\n",
        "from numpy import *\n",
        "print(np.sum(range(5),-1))"
      ]
    },
    {
      "cell_type": "markdown",
      "metadata": {
        "id": "ZusL-sv3vPK-"
      },
      "source": [
        "## **27. Consider an integer vector Z, which of these expressions are legal? (★☆☆)**"
      ]
    },
    {
      "cell_type": "markdown",
      "metadata": {
        "id": "yKNheoC_vPK-"
      },
      "source": [
        "```python\n",
        "Z**Z\n",
        "2 << Z >> 2\n",
        "Z <- Z\n",
        "1j*Z\n",
        "Z/1/1\n",
        "Z<Z>Z\n",
        "```"
      ]
    },
    {
      "cell_type": "code",
      "execution_count": null,
      "metadata": {
        "id": "iE8WkrUUvPK-"
      },
      "outputs": [],
      "source": [
        "Z=np.array([1,2,3,4,5])"
      ]
    },
    {
      "cell_type": "code",
      "source": [
        "Z**Z"
      ],
      "metadata": {
        "colab": {
          "base_uri": "https://localhost:8080/"
        },
        "id": "OmQlACs38Ewv",
        "outputId": "cb864885-c4c2-4e79-ccec-4cb337f9f60a"
      },
      "execution_count": null,
      "outputs": [
        {
          "output_type": "execute_result",
          "data": {
            "text/plain": [
              "array([   1,    4,   27,  256, 3125])"
            ]
          },
          "metadata": {},
          "execution_count": 6
        }
      ]
    },
    {
      "cell_type": "code",
      "source": [
        "2 << Z >> 2"
      ],
      "metadata": {
        "colab": {
          "base_uri": "https://localhost:8080/"
        },
        "id": "r8K8lBoQ8KaP",
        "outputId": "ef43f2b4-2e2a-4112-a096-f184584f161f"
      },
      "execution_count": null,
      "outputs": [
        {
          "output_type": "execute_result",
          "data": {
            "text/plain": [
              "array([ 1,  2,  4,  8, 16])"
            ]
          },
          "metadata": {},
          "execution_count": 7
        }
      ]
    },
    {
      "cell_type": "code",
      "source": [
        "Z <- Z"
      ],
      "metadata": {
        "colab": {
          "base_uri": "https://localhost:8080/"
        },
        "id": "xfjabzSn8NMH",
        "outputId": "45bd44b1-cb37-4628-f015-5f5b9af0655f"
      },
      "execution_count": null,
      "outputs": [
        {
          "output_type": "execute_result",
          "data": {
            "text/plain": [
              "array([False, False, False, False, False])"
            ]
          },
          "metadata": {},
          "execution_count": 8
        }
      ]
    },
    {
      "cell_type": "code",
      "source": [
        "1j*Z"
      ],
      "metadata": {
        "colab": {
          "base_uri": "https://localhost:8080/"
        },
        "id": "sRjrHv5j8Rwf",
        "outputId": "bdfe3abc-75fc-4b34-e456-71e6e412acbd"
      },
      "execution_count": null,
      "outputs": [
        {
          "output_type": "execute_result",
          "data": {
            "text/plain": [
              "array([0.+1.j, 0.+2.j, 0.+3.j, 0.+4.j, 0.+5.j])"
            ]
          },
          "metadata": {},
          "execution_count": 9
        }
      ]
    },
    {
      "cell_type": "code",
      "source": [
        "Z/1/1"
      ],
      "metadata": {
        "colab": {
          "base_uri": "https://localhost:8080/"
        },
        "id": "fdnaBTv08VLK",
        "outputId": "93066d75-e738-4dd0-8550-22f75ec7ff7d"
      },
      "execution_count": null,
      "outputs": [
        {
          "output_type": "execute_result",
          "data": {
            "text/plain": [
              "array([1., 2., 3., 4., 5.])"
            ]
          },
          "metadata": {},
          "execution_count": 10
        }
      ]
    },
    {
      "cell_type": "code",
      "source": [
        "Z< Z >Z"
      ],
      "metadata": {
        "colab": {
          "base_uri": "https://localhost:8080/",
          "height": 172
        },
        "id": "zyXSKvgX8X_m",
        "outputId": "9210667a-277b-481e-bacb-73d28a696f66"
      },
      "execution_count": null,
      "outputs": [
        {
          "output_type": "error",
          "ename": "ValueError",
          "evalue": "ignored",
          "traceback": [
            "\u001b[0;31m---------------------------------------------------------------------------\u001b[0m",
            "\u001b[0;31mValueError\u001b[0m                                Traceback (most recent call last)",
            "\u001b[0;32m<ipython-input-12-07c4c052b1ed>\u001b[0m in \u001b[0;36m<module>\u001b[0;34m\u001b[0m\n\u001b[0;32m----> 1\u001b[0;31m \u001b[0mZ\u001b[0m\u001b[0;34m<\u001b[0m \u001b[0mZ\u001b[0m \u001b[0;34m>\u001b[0m\u001b[0mZ\u001b[0m\u001b[0;34m\u001b[0m\u001b[0;34m\u001b[0m\u001b[0m\n\u001b[0m",
            "\u001b[0;31mValueError\u001b[0m: The truth value of an array with more than one element is ambiguous. Use a.any() or a.all()"
          ]
        }
      ]
    },
    {
      "cell_type": "markdown",
      "metadata": {
        "id": "6U1FgAN9vPK-"
      },
      "source": [
        "## **28. What are the result of the following expressions?**"
      ]
    },
    {
      "cell_type": "markdown",
      "metadata": {
        "id": "MXHp-d83vPK_"
      },
      "source": [
        "```python\n",
        "np.array(0) / np.array(0)\n",
        "np.array(0) // np.array(0)\n",
        "np.array([np.nan]).astype(int).astype(float)\n",
        "```"
      ]
    },
    {
      "cell_type": "code",
      "execution_count": null,
      "metadata": {
        "id": "ZskTQ4M9vPK_",
        "colab": {
          "base_uri": "https://localhost:8080/"
        },
        "outputId": "7b6dfec1-8dc2-48b5-dfc7-ed245a19a657"
      },
      "outputs": [
        {
          "output_type": "stream",
          "name": "stderr",
          "text": [
            "/usr/local/lib/python3.7/dist-packages/ipykernel_launcher.py:1: RuntimeWarning: invalid value encountered in true_divide\n",
            "  \"\"\"Entry point for launching an IPython kernel.\n"
          ]
        },
        {
          "output_type": "execute_result",
          "data": {
            "text/plain": [
              "nan"
            ]
          },
          "metadata": {},
          "execution_count": 13
        }
      ],
      "source": [
        "np.array(0) / np.array(0)"
      ]
    },
    {
      "cell_type": "code",
      "source": [
        "np.array(0) // np.array(0)"
      ],
      "metadata": {
        "colab": {
          "base_uri": "https://localhost:8080/"
        },
        "id": "hpVBydXR8wmv",
        "outputId": "218e4c09-6416-41be-878e-4c8bf83f9286"
      },
      "execution_count": null,
      "outputs": [
        {
          "output_type": "stream",
          "name": "stderr",
          "text": [
            "/usr/local/lib/python3.7/dist-packages/ipykernel_launcher.py:1: RuntimeWarning: divide by zero encountered in floor_divide\n",
            "  \"\"\"Entry point for launching an IPython kernel.\n"
          ]
        },
        {
          "output_type": "execute_result",
          "data": {
            "text/plain": [
              "0"
            ]
          },
          "metadata": {},
          "execution_count": 14
        }
      ]
    },
    {
      "cell_type": "code",
      "source": [
        "np.array([np.nan]).astype(int).astype(float)"
      ],
      "metadata": {
        "colab": {
          "base_uri": "https://localhost:8080/"
        },
        "id": "yhR2Raqc8yCH",
        "outputId": "3dd0c73d-4b64-4143-e2fa-9dc1abcb2c54"
      },
      "execution_count": null,
      "outputs": [
        {
          "output_type": "execute_result",
          "data": {
            "text/plain": [
              "array([-9.22337204e+18])"
            ]
          },
          "metadata": {},
          "execution_count": 15
        }
      ]
    },
    {
      "cell_type": "markdown",
      "metadata": {
        "id": "MJgteKZmvPK_"
      },
      "source": [
        "## **29. How to round away from zero a float array ? (★☆☆)**\n",
        "(**hint**: np.uniform, np.copysign, np.ceil, np.abs)"
      ]
    },
    {
      "cell_type": "code",
      "execution_count": null,
      "metadata": {
        "id": "VrYak5S3vPLB",
        "colab": {
          "base_uri": "https://localhost:8080/"
        },
        "outputId": "0fbc70cd-30b0-473f-9abf-14eeaa67a6de"
      },
      "outputs": [
        {
          "output_type": "stream",
          "name": "stdout",
          "text": [
            "[ 4.  7. -2.  8.  4. -2. 10. -2. -1. -8.]\n"
          ]
        }
      ],
      "source": [
        "Z = np.random.uniform(-10,+10,10)\n",
        "print(np.copysign(np.ceil(np.abs(Z)), Z))"
      ]
    },
    {
      "cell_type": "markdown",
      "metadata": {
        "id": "FXW7n9nCvPLC"
      },
      "source": [
        "## **30. How to find common values between two arrays? (★☆☆)**\n",
        "(**hint**: np.intersect1d)"
      ]
    },
    {
      "cell_type": "code",
      "execution_count": null,
      "metadata": {
        "id": "kZvMhi4LvPLC",
        "colab": {
          "base_uri": "https://localhost:8080/"
        },
        "outputId": "abcc01f2-ea01-4621-eff4-ec94eb9d76d8"
      },
      "outputs": [
        {
          "output_type": "execute_result",
          "data": {
            "text/plain": [
              "array([4, 5])"
            ]
          },
          "metadata": {},
          "execution_count": 51
        }
      ],
      "source": [
        "a = np.array([1,2,3,4,5])\n",
        "b = np.array([4,5,6,7,8])\n",
        "np.intersect1d(a,b)"
      ]
    },
    {
      "cell_type": "markdown",
      "metadata": {
        "id": "c1FtMyGmvPLC"
      },
      "source": [
        "## **31. How to ignore all numpy warnings (not recommended)? (★☆☆)**\n",
        "(**hint**: np.seterr, np.errstate)"
      ]
    },
    {
      "cell_type": "code",
      "execution_count": null,
      "metadata": {
        "id": "PWuKVR9hvPLD",
        "colab": {
          "base_uri": "https://localhost:8080/"
        },
        "outputId": "73fe6210-2eb7-487f-9124-a6066a424d88"
      },
      "outputs": [
        {
          "output_type": "stream",
          "name": "stderr",
          "text": [
            "/usr/local/lib/python3.7/dist-packages/numpy/lib/nanfunctions.py:1120: RuntimeWarning: All-NaN slice encountered\n",
            "  overwrite_input=overwrite_input)\n"
          ]
        },
        {
          "output_type": "execute_result",
          "data": {
            "text/plain": [
              "array([nan, nan, nan, nan, nan, nan, nan, nan, nan, nan])"
            ]
          },
          "metadata": {},
          "execution_count": 17
        }
      ],
      "source": [
        "data = np.random.random(1000).reshape(10, 10,10) * np.nan\n",
        "np.seterr(all=\"ignore\")\n",
        "np.nanmedian(data, axis=[1, 2])"
      ]
    },
    {
      "cell_type": "markdown",
      "metadata": {
        "id": "cFGlGnCZvPLD"
      },
      "source": [
        "## **32. Is the following expressions true? (★☆☆)**\n",
        "(**hint**: imaginary number)"
      ]
    },
    {
      "cell_type": "markdown",
      "metadata": {
        "id": "m_PvgQF6vPLD"
      },
      "source": [
        "```python\n",
        "np.sqrt(-1) == np.emath.sqrt(-1)\n",
        "```"
      ]
    },
    {
      "cell_type": "code",
      "execution_count": null,
      "metadata": {
        "id": "VjfGtnEivPLE",
        "colab": {
          "base_uri": "https://localhost:8080/"
        },
        "outputId": "69dda0a3-4a14-4dbd-d731-745046e816df"
      },
      "outputs": [
        {
          "output_type": "stream",
          "name": "stdout",
          "text": [
            "False\n"
          ]
        }
      ],
      "source": [
        "print(np.sqrt(-1) == np.emath.sqrt(-1))"
      ]
    },
    {
      "cell_type": "markdown",
      "metadata": {
        "id": "gHKZLrC5vPLG"
      },
      "source": [
        "## **33. How to get the dates of yesterday, today and tomorrow? (★☆☆)**"
      ]
    },
    {
      "cell_type": "code",
      "execution_count": null,
      "metadata": {
        "collapsed": true,
        "id": "qC79YnCWvPLH",
        "colab": {
          "base_uri": "https://localhost:8080/"
        },
        "outputId": "60c2c63b-f8b3-4175-8ecc-a8339fff7b01"
      },
      "outputs": [
        {
          "output_type": "stream",
          "name": "stdout",
          "text": [
            "Yesterday: 2022-11-20\n",
            "Today: 2022-11-21\n",
            "Tomorrow: 2022-11-22\n"
          ]
        }
      ],
      "source": [
        "yesterday=np.datetime64('today','D')-np.timedelta64(1,'D')\n",
        "print(\"Yesterday:\",yesterday)\n",
        "yesterday=np.datetime64('today','D')\n",
        "print(\"Today:\",yesterday)\n",
        "yesterday=np.datetime64('today','D')+np.timedelta64(1,'D')\n",
        "print(\"Tomorrow:\",yesterday)"
      ]
    },
    {
      "cell_type": "markdown",
      "metadata": {
        "id": "pnVX3-U2vPLH"
      },
      "source": [
        "## ***34. How to get all the dates corresponding to the month of July 2016? (★★☆) ***\n",
        "(**hint**: np.arange(dtype=datetime64\\['D'\\]))"
      ]
    },
    {
      "cell_type": "code",
      "execution_count": null,
      "metadata": {
        "id": "DfdkPWtGvPLH",
        "colab": {
          "base_uri": "https://localhost:8080/"
        },
        "outputId": "59be545f-42a1-4eeb-b67c-639b2f6fc51e"
      },
      "outputs": [
        {
          "output_type": "execute_result",
          "data": {
            "text/plain": [
              "array(['2016-07-01', '2016-07-02', '2016-07-03', '2016-07-04',\n",
              "       '2016-07-05', '2016-07-06', '2016-07-07', '2016-07-08',\n",
              "       '2016-07-09', '2016-07-10', '2016-07-11', '2016-07-12',\n",
              "       '2016-07-13', '2016-07-14', '2016-07-15', '2016-07-16',\n",
              "       '2016-07-17', '2016-07-18', '2016-07-19', '2016-07-20',\n",
              "       '2016-07-21', '2016-07-22', '2016-07-23', '2016-07-24',\n",
              "       '2016-07-25', '2016-07-26', '2016-07-27', '2016-07-28',\n",
              "       '2016-07-29', '2016-07-30', '2016-07-31'], dtype='datetime64[D]')"
            ]
          },
          "metadata": {},
          "execution_count": 24
        }
      ],
      "source": [
        "np.arange('2016-07','2016-08',dtype='datetime64[D]')"
      ]
    },
    {
      "cell_type": "markdown",
      "metadata": {
        "id": "VznNOqbuvPLI"
      },
      "source": [
        "### 35. How to compute ((A+B)*(-A/2)) in place (without copy)? (★★☆) bold text\n",
        "hint: np.add(out=), np.negative(out=), np.multiply(out=), np.divide(out=))"
      ]
    },
    {
      "cell_type": "code",
      "execution_count": null,
      "metadata": {
        "id": "qICFGSO9vPLI",
        "colab": {
          "base_uri": "https://localhost:8080/"
        },
        "outputId": "39f4bf42-eeef-4ced-c40b-74c0bae3e114"
      },
      "outputs": [
        {
          "output_type": "execute_result",
          "data": {
            "text/plain": [
              "array([-6., -6., -6., -6., -6.])"
            ]
          },
          "metadata": {},
          "execution_count": 28
        }
      ],
      "source": [
        "A=np.ones(5)*3\n",
        "B=np.ones(5)\n",
        "np.add(A,B,out=B)\n",
        "np.negative(A,out=A)\n",
        "np.divide(A,2, out= A)\n",
        "np.multiply(A,B,out=A)"
      ]
    },
    {
      "cell_type": "markdown",
      "metadata": {
        "id": "7x6k6A0XvPLI"
      },
      "source": [
        "# ***36. Extract the integer part of a random array using 5 different methods (★★☆) ***\n",
        "(**hint**: %, np.floor, np.ceil, astype, np.trunc)"
      ]
    },
    {
      "cell_type": "code",
      "execution_count": null,
      "metadata": {
        "id": "_mnZAO6_vPLI",
        "colab": {
          "base_uri": "https://localhost:8080/"
        },
        "outputId": "13754073-c44b-4768-b918-f29bc5a0d286"
      },
      "outputs": [
        {
          "output_type": "stream",
          "name": "stdout",
          "text": [
            "[0. 0. 0. 0. 0. 0. 0. 0. 0. 0.]\n",
            "[0. 0. 0. 0. 0. 0. 0. 0. 0. 0.]\n",
            "[1. 1. 1. 1. 1. 1. 1. 1. 1. 1.]\n",
            "[0 0 0 0 0 0 0 0 0 0]\n",
            "[0. 0. 0. 0. 0. 0. 0. 0. 0. 0.]\n"
          ]
        }
      ],
      "source": [
        "X=np.random.rand(10)\n",
        "print(X-X%1)\n",
        "print(np.floor(X))\n",
        "print(np.ceil(X))\n",
        "print(X.astype(int))\n",
        "print(np.trunc(X))"
      ]
    },
    {
      "cell_type": "markdown",
      "metadata": {
        "id": "PbNWr8ksvPLJ"
      },
      "source": [
        "## **37. Create a 5x5 matrix with row values ranging from 0 to 4 (★★☆)**"
      ]
    },
    {
      "cell_type": "code",
      "execution_count": null,
      "metadata": {
        "id": "CNj3h9DavPLJ",
        "colab": {
          "base_uri": "https://localhost:8080/"
        },
        "outputId": "7d0ca45a-5cde-4189-91aa-4e6522d6d65d"
      },
      "outputs": [
        {
          "output_type": "execute_result",
          "data": {
            "text/plain": [
              "array([[0, 1, 2, 3, 4],\n",
              "       [0, 1, 2, 3, 4],\n",
              "       [0, 1, 2, 3, 4],\n",
              "       [0, 1, 2, 3, 4],\n",
              "       [0, 1, 2, 3, 4]])"
            ]
          },
          "metadata": {},
          "execution_count": 57
        }
      ],
      "source": [
        "x = np.arange(5)\n",
        "np.tile(x,(5,1))"
      ]
    },
    {
      "cell_type": "markdown",
      "metadata": {
        "id": "IRc0zt3tvPLJ"
      },
      "source": [
        "## ***38. Consider a generator function that generates 10 integers and use it to build an array (★☆☆) ***\n",
        "(**hint**: np.fromiter)"
      ]
    },
    {
      "cell_type": "code",
      "execution_count": null,
      "metadata": {
        "id": "pdEFRsbJvPLJ"
      },
      "outputs": [],
      "source": [
        "def generate():\n",
        "    for x in range(10):\n",
        "        yield x\n",
        "x = np.fromiter(generate(),dtype=float)\n",
        "print(x)"
      ]
    },
    {
      "cell_type": "markdown",
      "metadata": {
        "id": "0sgd095ovPLK"
      },
      "source": [
        "## ***39. Create a vector of size 10 with values ranging from 0 to 1, both excluded (★★☆) ***\n",
        "(**hint**: np.linspace)"
      ]
    },
    {
      "cell_type": "code",
      "execution_count": null,
      "metadata": {
        "id": "Ee8FyQ3mvPLK",
        "colab": {
          "base_uri": "https://localhost:8080/"
        },
        "outputId": "1f9d23a5-4b46-4043-8530-3f6b58e717a4"
      },
      "outputs": [
        {
          "output_type": "stream",
          "name": "stdout",
          "text": [
            "[0.09090909 0.18181818 0.27272727 0.36363636 0.45454545 0.54545455\n",
            " 0.63636364 0.72727273 0.81818182 0.90909091]\n"
          ]
        }
      ],
      "source": [
        "Z = np.linspace(0,1,11,endpoint=False)[1:]\n",
        "print(Z)"
      ]
    },
    {
      "cell_type": "markdown",
      "metadata": {
        "id": "j_lYDUgSvPLK"
      },
      "source": [
        "## ***40. Create a random vector of size 10 and sort it (★★☆) ***\n",
        "(**hint**: sort)"
      ]
    },
    {
      "cell_type": "code",
      "execution_count": null,
      "metadata": {
        "id": "3sdUVyxMvPLK",
        "colab": {
          "base_uri": "https://localhost:8080/"
        },
        "outputId": "99954435-228f-4d0c-a322-8da49fcf391f"
      },
      "outputs": [
        {
          "output_type": "stream",
          "name": "stdout",
          "text": [
            "[0.10997411 0.25677047 0.41341952 0.65913345 0.67479968 0.73717861\n",
            " 0.7562941  0.77613896 0.83753463 0.94005192]\n"
          ]
        }
      ],
      "source": [
        "Z = np.random.random(10)\n",
        "Z.sort()\n",
        "print(Z)"
      ]
    },
    {
      "cell_type": "markdown",
      "metadata": {
        "id": "lT6jrYh8vPLL"
      },
      "source": [
        "## ***41. How to sum a small array faster than np.sum? (★★☆) ***\n",
        "(**hint**: np.add.reduce)"
      ]
    },
    {
      "cell_type": "code",
      "execution_count": null,
      "metadata": {
        "id": "bfq4U6alvPLL",
        "colab": {
          "base_uri": "https://localhost:8080/"
        },
        "outputId": "c08145e4-21d3-4004-c835-ec11f39385eb"
      },
      "outputs": [
        {
          "output_type": "execute_result",
          "data": {
            "text/plain": [
              "10"
            ]
          },
          "metadata": {},
          "execution_count": 37
        }
      ],
      "source": [
        "Z = np.arange(5)\n",
        "np.add.reduce(Z)"
      ]
    },
    {
      "cell_type": "markdown",
      "metadata": {
        "id": "_LqaG0l7vPLL"
      },
      "source": [
        "# ***42. Consider two random array A and B, check if they are equal (★★☆) ***\n",
        "(**hint**: np.allclose, np.array\\_equal)"
      ]
    },
    {
      "cell_type": "code",
      "execution_count": null,
      "metadata": {
        "id": "YPNwGfygvPLL",
        "colab": {
          "base_uri": "https://localhost:8080/"
        },
        "outputId": "4b3e4e8d-eaf0-4af3-869a-62d46bc88ec0"
      },
      "outputs": [
        {
          "output_type": "stream",
          "name": "stdout",
          "text": [
            "False\n",
            "False\n"
          ]
        }
      ],
      "source": [
        "A = np.random.randint(0,3,5)\n",
        "B = np.random.randint(0,3,5)\n",
        "print(np.allclose(A,B))\n",
        "print(np.array_equal(A,B))"
      ]
    },
    {
      "cell_type": "markdown",
      "metadata": {
        "id": "9JWBCBeevPLL"
      },
      "source": [
        "## ***43. Make an array immutable (read-only) (★★☆) ***\n",
        "(**hint**: flags.writeable)"
      ]
    },
    {
      "cell_type": "code",
      "execution_count": null,
      "metadata": {
        "id": "Tvb8AMSjvPLM",
        "colab": {
          "base_uri": "https://localhost:8080/",
          "height": 209
        },
        "outputId": "f26ea6e0-9359-4665-e281-a187823dd42d"
      },
      "outputs": [
        {
          "output_type": "error",
          "ename": "ValueError",
          "evalue": "ignored",
          "traceback": [
            "\u001b[0;31m---------------------------------------------------------------------------\u001b[0m",
            "\u001b[0;31mValueError\u001b[0m                                Traceback (most recent call last)",
            "\u001b[0;32m<ipython-input-40-50d3306bb5ff>\u001b[0m in \u001b[0;36m<module>\u001b[0;34m\u001b[0m\n\u001b[1;32m      1\u001b[0m \u001b[0mx\u001b[0m \u001b[0;34m=\u001b[0m \u001b[0mnp\u001b[0m\u001b[0;34m.\u001b[0m\u001b[0mzeros\u001b[0m\u001b[0;34m(\u001b[0m\u001b[0;36m10\u001b[0m\u001b[0;34m)\u001b[0m\u001b[0;34m\u001b[0m\u001b[0;34m\u001b[0m\u001b[0m\n\u001b[1;32m      2\u001b[0m \u001b[0mx\u001b[0m\u001b[0;34m.\u001b[0m\u001b[0mflags\u001b[0m\u001b[0;34m.\u001b[0m\u001b[0mwriteable\u001b[0m \u001b[0;34m=\u001b[0m \u001b[0;32mFalse\u001b[0m\u001b[0;34m\u001b[0m\u001b[0;34m\u001b[0m\u001b[0m\n\u001b[0;32m----> 3\u001b[0;31m \u001b[0mx\u001b[0m\u001b[0;34m[\u001b[0m\u001b[0;36m0\u001b[0m\u001b[0;34m]\u001b[0m \u001b[0;34m=\u001b[0m \u001b[0;36m1\u001b[0m\u001b[0;34m\u001b[0m\u001b[0;34m\u001b[0m\u001b[0m\n\u001b[0m",
            "\u001b[0;31mValueError\u001b[0m: assignment destination is read-only"
          ]
        }
      ],
      "source": [
        "x = np.zeros(10)\n",
        "x.flags.writeable = False\n",
        "x[0] = 1"
      ]
    },
    {
      "cell_type": "markdown",
      "metadata": {
        "id": "KCJlAqU_vPLM"
      },
      "source": [
        "### *** 44. Consider a random 10x2 matrix representing cartesian coordinates, convert them to polar coordinates (★★☆) ***\n",
        "(**hint**: np.sqrt, np.arctan2)"
      ]
    },
    {
      "cell_type": "code",
      "execution_count": null,
      "metadata": {
        "id": "aqttBkwzvPLM",
        "colab": {
          "base_uri": "https://localhost:8080/"
        },
        "outputId": "4e48ec15-6b50-4c6d-d1d2-cc5304f1ed0b"
      },
      "outputs": [
        {
          "output_type": "stream",
          "name": "stdout",
          "text": [
            "[0.97418735 0.96069082 1.19775294 1.10589549 1.10157788 0.92694918\n",
            " 0.61748041 0.4254165  1.31401316 1.27276154]\n",
            "[1.23186888 0.85819974 0.80022128 0.66198382 1.13509925 0.62075866\n",
            " 0.05984511 0.79577877 0.75593148 0.84324318]\n"
          ]
        }
      ],
      "source": [
        "a = np.random.random((10,2))\n",
        "X,Y = a[:,0], a[:,1] # getting x and y coordinates seperately\n",
        "radius = np.sqrt(X**2+Y**2)\n",
        "theta = np.arctan2(Y,X)\n",
        "print(radius)\n",
        "print(theta)"
      ]
    },
    {
      "cell_type": "markdown",
      "metadata": {
        "id": "NlCU3ls0vPLM"
      },
      "source": [
        "## ***45. Create random vector of size 10 and replace the maximum value by 0 (★★☆) ***\n",
        "(**hint**: argmax)"
      ]
    },
    {
      "cell_type": "code",
      "execution_count": null,
      "metadata": {
        "id": "n8OtWI99vPLM",
        "colab": {
          "base_uri": "https://localhost:8080/"
        },
        "outputId": "5f3ad548-3055-4fa1-aab5-fb6d87c99884"
      },
      "outputs": [
        {
          "output_type": "stream",
          "name": "stdout",
          "text": [
            "[0.         0.8448532  0.92672338 0.68498783 0.6727424  0.38689164\n",
            " 0.93621177 0.53453088 0.56391266 0.66593141]\n"
          ]
        }
      ],
      "source": [
        "x = np.random.random(10)\n",
        "x[x.argmax()] = 0\n",
        "print(x)"
      ]
    },
    {
      "cell_type": "markdown",
      "metadata": {
        "id": "Dn8QgQSIvPLM"
      },
      "source": [
        "### *** 46. Create a structured array with `x` and `y` coordinates covering the \\[0,1\\]x\\[0,1\\] area (★★☆) ***\n",
        "(**hint**: np.meshgrid)"
      ]
    },
    {
      "cell_type": "code",
      "execution_count": null,
      "metadata": {
        "id": "zECSpc8IvPLN",
        "colab": {
          "base_uri": "https://localhost:8080/"
        },
        "outputId": "90f3c420-3f15-4e2f-e10c-388a3ca38702"
      },
      "outputs": [
        {
          "output_type": "stream",
          "name": "stdout",
          "text": [
            "[[(0.  , 0.  ) (0.25, 0.  ) (0.5 , 0.  ) (0.75, 0.  ) (1.  , 0.  )]\n",
            " [(0.  , 0.25) (0.25, 0.25) (0.5 , 0.25) (0.75, 0.25) (1.  , 0.25)]\n",
            " [(0.  , 0.5 ) (0.25, 0.5 ) (0.5 , 0.5 ) (0.75, 0.5 ) (1.  , 0.5 )]\n",
            " [(0.  , 0.75) (0.25, 0.75) (0.5 , 0.75) (0.75, 0.75) (1.  , 0.75)]\n",
            " [(0.  , 1.  ) (0.25, 1.  ) (0.5 , 1.  ) (0.75, 1.  ) (1.  , 1.  )]]\n"
          ]
        }
      ],
      "source": [
        "z = np.zeros((5,5), [('x', float), ('y', float)])\n",
        "z['x'], z['y'] = np.meshgrid(np.linspace(0,1,5), np.linspace(0,1,5))\n",
        "\n",
        "print(z)"
      ]
    },
    {
      "cell_type": "markdown",
      "metadata": {
        "id": "kFs9O-cFvPLN"
      },
      "source": [
        "####  47. Given two arrays, X and Y, construct the Cauchy matrix C (Cij =1/(xi - yj)) \n",
        "(**hint**: np.subtract.outer)"
      ]
    },
    {
      "cell_type": "code",
      "execution_count": null,
      "metadata": {
        "id": "omaoTBLbvPLN",
        "colab": {
          "base_uri": "https://localhost:8080/"
        },
        "outputId": "0a92e582-a072-4c95-dbe0-d1498dac5e29"
      },
      "outputs": [
        {
          "output_type": "stream",
          "name": "stdout",
          "text": [
            "3638.163637117973\n"
          ]
        }
      ],
      "source": [
        "X = np.arange(8)\n",
        "Y = X + 0.5\n",
        "\n",
        "C = 1.0 / np.subtract.outer(X,Y)\n",
        "print(np.linalg.det(C))"
      ]
    },
    {
      "cell_type": "markdown",
      "metadata": {
        "id": "jhZS2ZntvPLN"
      },
      "source": [
        " *** 48. Print the minimum and maximum representable value for each numpy scalar type (★★☆) ***\n",
        "(**hint**: np.iinfo, np.finfo, eps)"
      ]
    },
    {
      "cell_type": "code",
      "execution_count": null,
      "metadata": {
        "id": "bXC8w8RUvPLN",
        "colab": {
          "base_uri": "https://localhost:8080/"
        },
        "outputId": "7c785403-5424-4373-bf23-bd88c8700851"
      },
      "outputs": [
        {
          "output_type": "stream",
          "name": "stdout",
          "text": [
            "[[0. 0. 0. 0.]\n",
            " [0. 0. 0. 0.]\n",
            " [0. 0. 0. 0.]\n",
            " [0. 0. 0. 0.]]\n"
          ]
        }
      ],
      "source": [
        "np.set_printoptions(threshold=0)\n",
        "x = np.zeros((4, 4))\n",
        "print(x)"
      ]
    },
    {
      "cell_type": "markdown",
      "metadata": {
        "id": "Wra8-cDXvPLN"
      },
      "source": [
        "## ***49. How to print all the values of an array? (★★☆) ***\n",
        "(**hint**: np.set\\_printoptions)"
      ]
    },
    {
      "cell_type": "code",
      "execution_count": null,
      "metadata": {
        "id": "eBF6RkV9vPLO",
        "colab": {
          "base_uri": "https://localhost:8080/"
        },
        "outputId": "1732a2c2-28c5-414f-d86b-e63b2a249f33"
      },
      "outputs": [
        {
          "output_type": "stream",
          "name": "stdout",
          "text": [
            "[[0. 0. 0. 0. 0.]\n",
            " [0. 0. 0. 0. 0.]\n",
            " [0. 0. 0. 0. 0.]\n",
            " [0. 0. 0. 0. 0.]\n",
            " [0. 0. 0. 0. 0.]]\n"
          ]
        }
      ],
      "source": [
        "np.set_printoptions(threshold=float(\"inf\"))\n",
        "X = np.zeros((5,5))\n",
        "print(X)"
      ]
    },
    {
      "cell_type": "markdown",
      "metadata": {
        "id": "05WbLsl4vPLO"
      },
      "source": [
        "### ***50. How to find the closest value (to a given scalar) in a vector? (★★☆) ***\n",
        "(**hint**: argmin)"
      ]
    },
    {
      "cell_type": "code",
      "execution_count": null,
      "metadata": {
        "id": "prxQyr3IvPLO",
        "colab": {
          "base_uri": "https://localhost:8080/"
        },
        "outputId": "adaa3164-2fba-4a98-db16-ad012153b1ba"
      },
      "outputs": [
        {
          "output_type": "stream",
          "name": "stdout",
          "text": [
            "72.72379747249065\n",
            "73\n"
          ]
        }
      ],
      "source": [
        "Z = np.arange(100)\n",
        "v = np.random.uniform(0,100)\n",
        "index = (np.abs(Z-v)).argmin()\n",
        "print(v)\n",
        "print(Z[index])"
      ]
    },
    {
      "cell_type": "markdown",
      "metadata": {
        "id": "-bZdUC1jvPLO"
      },
      "source": [
        "### ***51. Create a structured array representing a position (x,y) and a color (r,g,b) (★★☆) ***\n",
        "(**hint**: dtype)"
      ]
    },
    {
      "cell_type": "code",
      "execution_count": null,
      "metadata": {
        "id": "jd7JKZXBvPLO",
        "colab": {
          "base_uri": "https://localhost:8080/"
        },
        "outputId": "1fcd3dc5-740c-4878-f74e-92e8ac3fb915"
      },
      "outputs": [
        {
          "output_type": "execute_result",
          "data": {
            "text/plain": [
              "array([],\n",
              "      dtype=[('position', [('x', '<i4'), ('y', '<i4')]), ('color', [('r', '<i4'), ('g', '<i4'), ('b', '<i4')])])"
            ]
          },
          "metadata": {},
          "execution_count": 18
        }
      ],
      "source": [
        "np.array([], dtype=[('position',[('x',np.int32), ('y',np.int32)]),\n",
        "                     ('color', [('r', np.int32), ('g', np.int32),('b', np.int32)])])"
      ]
    },
    {
      "cell_type": "markdown",
      "metadata": {
        "id": "rnTqsircvPLO"
      },
      "source": [
        "### ***52. Consider a random vector with shape (100,2) representing coordinates, find point by point distances (★★☆) ***\n",
        "(**hint**: np.atleast\\_2d, T, np.sqrt)"
      ]
    },
    {
      "cell_type": "code",
      "execution_count": null,
      "metadata": {
        "id": "AOyDKH_LvPLP",
        "colab": {
          "base_uri": "https://localhost:8080/"
        },
        "outputId": "74528055-d9f0-498e-f542-bee1054fa905"
      },
      "outputs": [
        {
          "output_type": "stream",
          "name": "stdout",
          "text": [
            "[[0.         0.05208291 0.35386368 ... 0.2842292  0.44712084 0.40827016]\n",
            " [0.05208291 0.         0.30582841 ... 0.24646773 0.41181199 0.35764264]\n",
            " [0.35386368 0.30582841 0.         ... 0.12452297 0.18849087 0.077645  ]\n",
            " ...\n",
            " [0.2842292  0.24646773 0.12452297 ... 0.         0.16587031 0.20211492]\n",
            " [0.44712084 0.41181199 0.18849087 ... 0.16587031 0.         0.23958459]\n",
            " [0.40827016 0.35764264 0.077645   ... 0.20211492 0.23958459 0.        ]]\n"
          ]
        }
      ],
      "source": [
        "Z = np.random.random((100,2))\n",
        "X,Y = np.atleast_2d(Z[:,0], Z[:,1])\n",
        "D = np.sqrt( (X-X.T)**2 + (Y-Y.T)**2)\n",
        "print(D)"
      ]
    },
    {
      "cell_type": "markdown",
      "metadata": {
        "id": "UwaSyzEpvPLP"
      },
      "source": [
        "### ***53. How to convert a float (32 bits) array into an integer (32 bits) in place? ***\n",
        "(**hint**: astype(copy=False))"
      ]
    },
    {
      "cell_type": "code",
      "execution_count": null,
      "metadata": {
        "id": "GWq6bbyZvPLP",
        "colab": {
          "base_uri": "https://localhost:8080/"
        },
        "outputId": "b5004ced-647b-4d62-e39c-dea89693281b"
      },
      "outputs": [
        {
          "output_type": "stream",
          "name": "stdout",
          "text": [
            "[0 1 2 ... 7 8 9]\n"
          ]
        }
      ],
      "source": [
        "x = np.arange(10, dtype=np.float32)\n",
        "x = x.astype(np.int32, copy=False)\n",
        "print(x)"
      ]
    },
    {
      "cell_type": "markdown",
      "metadata": {
        "id": "fzBmf-cCvPLQ"
      },
      "source": [
        "### ***54. How to read the following file? (★★☆) ***\n",
        "(**hint**: np.genfromtxt)"
      ]
    },
    {
      "cell_type": "markdown",
      "metadata": {
        "id": "qmhHvlNOvPLQ"
      },
      "source": [
        "```\n",
        "1, 2, 3, 4, 5\n",
        "6,  ,  , 7, 8\n",
        " ,  , 9,10,11\n",
        "```"
      ]
    },
    {
      "cell_type": "code",
      "execution_count": null,
      "metadata": {
        "id": "kIZYt1fQvPLQ",
        "colab": {
          "base_uri": "https://localhost:8080/"
        },
        "outputId": "d4153e8f-8de4-421c-95aa-22fe8de6883b"
      },
      "outputs": [
        {
          "output_type": "stream",
          "name": "stdout",
          "text": [
            "[[ 1  2  3  4  5]\n",
            " [ 6 -1 -1  7  8]\n",
            " [-1 -1  9 10 11]]\n"
          ]
        },
        {
          "output_type": "stream",
          "name": "stderr",
          "text": [
            "/usr/local/lib/python3.7/dist-packages/ipykernel_launcher.py:5: DeprecationWarning: `np.int` is a deprecated alias for the builtin `int`. To silence this warning, use `int` by itself. Doing this will not modify any behavior and is safe. When replacing `np.int`, you may wish to use e.g. `np.int64` or `np.int32` to specify the precision. If you wish to review your current use, check the release note link for additional information.\n",
            "Deprecated in NumPy 1.20; for more details and guidance: https://numpy.org/devdocs/release/1.20.0-notes.html#deprecations\n",
            "  \"\"\"\n"
          ]
        }
      ],
      "source": [
        "from io import StringIO\n",
        "s = StringIO(\"\"\"1, 2, 3, 4, 5\\n\n",
        "                6,  ,  , 7, 8\\n\n",
        "                 ,  , 9,10,11\\n\"\"\")\n",
        "Z = np.genfromtxt(s, delimiter=\",\", dtype=np.int)\n",
        "print(Z)"
      ]
    },
    {
      "cell_type": "markdown",
      "metadata": {
        "id": "eSvTQUxIvPLR"
      },
      "source": [
        "### ***55. What is the equivalent of enumerate for numpy arrays? (★★☆) ***\n",
        "(**hint**: np.ndenumerate, np.ndindex)"
      ]
    },
    {
      "cell_type": "code",
      "execution_count": null,
      "metadata": {
        "id": "Tp3A8dwhvPLU",
        "colab": {
          "base_uri": "https://localhost:8080/"
        },
        "outputId": "b76791b7-1811-4ffa-8aca-4bc73740fe97"
      },
      "outputs": [
        {
          "output_type": "stream",
          "name": "stdout",
          "text": [
            "(0, 0) 0\n",
            "(0, 1) 1\n",
            "(0, 2) 2\n",
            "(1, 0) 3\n",
            "(1, 1) 4\n",
            "(1, 2) 5\n",
            "(2, 0) 6\n",
            "(2, 1) 7\n",
            "(2, 2) 8\n",
            "(0, 0) 0\n",
            "(0, 1) 1\n",
            "(0, 2) 2\n",
            "(1, 0) 3\n",
            "(1, 1) 4\n",
            "(1, 2) 5\n",
            "(2, 0) 6\n",
            "(2, 1) 7\n",
            "(2, 2) 8\n"
          ]
        }
      ],
      "source": [
        "Z = np.arange(9).reshape(3,3)\n",
        "for index, value in np.ndenumerate(Z):\n",
        "    print(index, value)\n",
        "for index in np.ndindex(Z.shape):\n",
        "    print(index, Z[index])"
      ]
    },
    {
      "cell_type": "markdown",
      "metadata": {
        "id": "g62DK9eJvPLV"
      },
      "source": [
        "### ***56. Generate a generic 2D Gaussian-like array (★★☆) ***\n",
        "(**hint**: np.meshgrid, np.exp)"
      ]
    },
    {
      "cell_type": "code",
      "execution_count": null,
      "metadata": {
        "id": "u5w5XYFYvPLW",
        "colab": {
          "base_uri": "https://localhost:8080/"
        },
        "outputId": "b1bdb3b4-4cde-4cc9-af63-4ef13ec63cac"
      },
      "outputs": [
        {
          "output_type": "stream",
          "name": "stdout",
          "text": [
            "[[0.36787944 0.44822088 0.51979489 ... 0.51979489 0.44822088 0.36787944]\n",
            " [0.44822088 0.54610814 0.63331324 ... 0.63331324 0.54610814 0.44822088]\n",
            " [0.51979489 0.63331324 0.73444367 ... 0.73444367 0.63331324 0.51979489]\n",
            " ...\n",
            " [0.51979489 0.63331324 0.73444367 ... 0.73444367 0.63331324 0.51979489]\n",
            " [0.44822088 0.54610814 0.63331324 ... 0.63331324 0.54610814 0.44822088]\n",
            " [0.36787944 0.44822088 0.51979489 ... 0.51979489 0.44822088 0.36787944]]\n"
          ]
        }
      ],
      "source": [
        "X, Y = np.meshgrid(np.linspace(-1,1,10), np.linspace(-1,1,10))\n",
        "D = np.sqrt(X*X+Y*Y)\n",
        "sigma, mu = 1.0, 0.0\n",
        "G = np.exp(-( (D-mu)**2 / ( 2.0 * sigma**2 ) ) )\n",
        "print(G)"
      ]
    },
    {
      "cell_type": "markdown",
      "metadata": {
        "id": "oB-JzVEgvPLW"
      },
      "source": [
        "### ***57. How to randomly place p elements in a 2D array? (★★☆) ***\n",
        "(**hint**: np.put, np.random.choice)"
      ]
    },
    {
      "cell_type": "code",
      "execution_count": null,
      "metadata": {
        "id": "8IkkEZqvvPLX",
        "colab": {
          "base_uri": "https://localhost:8080/"
        },
        "outputId": "451a3754-60da-4ab5-87f1-2296c7308513"
      },
      "outputs": [
        {
          "output_type": "stream",
          "name": "stdout",
          "text": [
            "[[0. 0. 0. 0. 0.]\n",
            " [0. 1. 0. 0. 0.]\n",
            " [0. 0. 0. 1. 0.]\n",
            " [0. 0. 0. 0. 0.]\n",
            " [0. 0. 0. 0. 1.]]\n"
          ]
        }
      ],
      "source": [
        "n = 5\n",
        "p = 3\n",
        "Z = np.zeros((n,n))\n",
        "np.put(Z, np.random.choice(range(n*n), p, replace=False),1)\n",
        "print(Z)"
      ]
    },
    {
      "cell_type": "markdown",
      "metadata": {
        "id": "kc1APmJUvPLX"
      },
      "source": [
        "## ***58. Subtract the mean of each row of a matrix (★★☆) ***\n",
        "(**hint**: mean(axis=,keepdims=))"
      ]
    },
    {
      "cell_type": "code",
      "execution_count": null,
      "metadata": {
        "id": "pWKscPAQvPLX",
        "colab": {
          "base_uri": "https://localhost:8080/"
        },
        "outputId": "0a8628e8-0ec9-4a95-8709-5fc7779de540"
      },
      "outputs": [
        {
          "output_type": "execute_result",
          "data": {
            "text/plain": [
              "array([[ 0.32257833,  0.0171926 , -0.42489328,  0.31286642, -0.22774407],\n",
              "       [-0.13632807,  0.06775042,  0.32401708,  0.09939387, -0.35483331],\n",
              "       [ 0.30906002, -0.20870103,  0.38374332, -0.17707453, -0.30702779],\n",
              "       [ 0.18751425, -0.20766249, -0.10210554,  0.01316255,  0.10909123]])"
            ]
          },
          "metadata": {},
          "execution_count": 44
        }
      ],
      "source": [
        "X = np.random.rand(4,5)\n",
        "Y = X - X.mean(axis=1, keepdims=True)\n",
        "Y"
      ]
    },
    {
      "cell_type": "markdown",
      "metadata": {
        "id": "iZBa40DRvPLX"
      },
      "source": [
        "## ***59. How to sort an array by the nth column? (★★☆) ***\n",
        "(**hint**: argsort)"
      ]
    },
    {
      "cell_type": "code",
      "execution_count": null,
      "metadata": {
        "id": "wP-dtgLTvPLY",
        "colab": {
          "base_uri": "https://localhost:8080/"
        },
        "outputId": "df9263bd-b3b2-4897-a199-222174745e69"
      },
      "outputs": [
        {
          "output_type": "stream",
          "name": "stdout",
          "text": [
            "[[83 46 38]\n",
            " [33 31 47]\n",
            " [91 70  2]]\n"
          ]
        },
        {
          "output_type": "execute_result",
          "data": {
            "text/plain": [
              "array([[33, 31, 47],\n",
              "       [83, 46, 38],\n",
              "       [91, 70,  2]])"
            ]
          },
          "metadata": {},
          "execution_count": 45
        }
      ],
      "source": [
        "x = np.random.randint(0,100,(3,3))\n",
        "print(x)\n",
        "x[x[:,1].argsort()]"
      ]
    },
    {
      "cell_type": "markdown",
      "metadata": {
        "id": "aR56aLrAvPLY"
      },
      "source": [
        "## ***60. How to tell if a given 2D array has null columns? (★★☆) ***\n",
        "(**hint**: any, ~)"
      ]
    },
    {
      "cell_type": "code",
      "execution_count": null,
      "metadata": {
        "id": "0sTMaVpivPLY",
        "colab": {
          "base_uri": "https://localhost:8080/"
        },
        "outputId": "820101c2-d0b3-47d5-efd3-3abe6514cc33"
      },
      "outputs": [
        {
          "output_type": "stream",
          "name": "stdout",
          "text": [
            "False\n"
          ]
        }
      ],
      "source": [
        "Z = np.random.randint(0,3,(3,10))\n",
        "print((~Z.any(axis=0)).any())"
      ]
    },
    {
      "cell_type": "markdown",
      "metadata": {
        "id": "l1GJppvWvPLZ"
      },
      "source": [
        "## ***61. Find the nearest value from a given value in an array (★★☆) ***\n",
        "(**hint**: np.abs, argmin, flat)"
      ]
    },
    {
      "cell_type": "code",
      "execution_count": null,
      "metadata": {
        "id": "01pC9x8UvPLZ",
        "colab": {
          "base_uri": "https://localhost:8080/"
        },
        "outputId": "2fe199c4-b4f9-4315-a9f1-76da4b9d389b"
      },
      "outputs": [
        {
          "output_type": "execute_result",
          "data": {
            "text/plain": [
              "0.63169936273641"
            ]
          },
          "metadata": {},
          "execution_count": 47
        }
      ],
      "source": [
        "X = np.random.uniform(0,1,5)\n",
        "value = 0.5\n",
        "y = X.flat[np.abs(X-value).argmin()]\n",
        "y"
      ]
    },
    {
      "cell_type": "markdown",
      "metadata": {
        "id": "MSQ0L32JvPLZ"
      },
      "source": [
        "### ***62. Considering two arrays with shape (1,3) and (3,1), how to compute their sum using an iterator? (★★☆) ***\n",
        "(**hint**: np.nditer)"
      ]
    },
    {
      "cell_type": "code",
      "execution_count": null,
      "metadata": {
        "id": "OD9KP6LGvPLZ",
        "colab": {
          "base_uri": "https://localhost:8080/"
        },
        "outputId": "66e2ec2c-0457-443f-c816-85f8f31dd9df"
      },
      "outputs": [
        {
          "output_type": "stream",
          "name": "stdout",
          "text": [
            "[[0 1 2]\n",
            " [1 2 3]\n",
            " [2 3 4]]\n"
          ]
        }
      ],
      "source": [
        "A = np.arange(3).reshape(3,1)\n",
        "B = np.arange(3).reshape(1,3)\n",
        "it = np.nditer([A,B,None])\n",
        "for x,y,z in it: z[...] = x + y\n",
        "print(it.operands[2])"
      ]
    },
    {
      "cell_type": "markdown",
      "metadata": {
        "id": "Tbw-ABpsvPLa"
      },
      "source": [
        "### ***63. Create an array class that has a name attribute (★★☆) ***\n",
        "(**hint**: class method)"
      ]
    },
    {
      "cell_type": "code",
      "execution_count": null,
      "metadata": {
        "id": "wbf4BK_MvPLa",
        "colab": {
          "base_uri": "https://localhost:8080/"
        },
        "outputId": "5d7b22c1-a0a8-4234-b838-71e65b42f6c7"
      },
      "outputs": [
        {
          "output_type": "stream",
          "name": "stdout",
          "text": [
            "range_10\n"
          ]
        }
      ],
      "source": [
        "class NamedArray(np.ndarray):\n",
        "    def __new__(cls, array, name=\"no name\"):\n",
        "        obj = np.asarray(array).view(cls)\n",
        "        obj.name = name\n",
        "        return obj\n",
        "    def __array_finalize__(self, obj):\n",
        "        if obj is None: return\n",
        "        self.info = getattr(obj, 'name', \"no name\")\n",
        "\n",
        "Z = NamedArray(np.arange(10), \"range_10\")\n",
        "print (Z.name)"
      ]
    },
    {
      "cell_type": "markdown",
      "metadata": {
        "id": "qZsvpqRZvPLa"
      },
      "source": [
        "### ***64. Consider a given vector, how to add 1 to each element indexed by a second vector (be careful with repeated indices)? (★★★) ***\n",
        "(**hint**: np.bincount | np.add.at)"
      ]
    },
    {
      "cell_type": "code",
      "execution_count": null,
      "metadata": {
        "id": "XXoNULl0vPLa",
        "colab": {
          "base_uri": "https://localhost:8080/"
        },
        "outputId": "ebf8d942-72cb-4196-b7a4-a2aa0a22cf78"
      },
      "outputs": [
        {
          "output_type": "stream",
          "name": "stdout",
          "text": [
            "[3. 3. 5. ... 2. 3. 2.]\n",
            "[5. 5. 9. ... 3. 5. 3.]\n"
          ]
        }
      ],
      "source": [
        "Z = np.ones(10)\n",
        "I = np.random.randint(0,len(Z),20)\n",
        "Z += np.bincount(I, minlength=len(Z))\n",
        "print(Z)\n",
        "np.add.at(Z, I, 1)\n",
        "print(Z)"
      ]
    },
    {
      "cell_type": "markdown",
      "metadata": {
        "id": "AkpUychAvPLe"
      },
      "source": [
        "## ***65. How to accumulate elements of a vector (X) to an array (F) based on an index list (I)? (★★★) ***\n",
        "(**hint**: np.bincount)"
      ]
    },
    {
      "cell_type": "code",
      "execution_count": null,
      "metadata": {
        "id": "v41UXqNHvPLe",
        "colab": {
          "base_uri": "https://localhost:8080/"
        },
        "outputId": "ff0af4a1-caa8-40d1-d3da-b61a9829af8c"
      },
      "outputs": [
        {
          "output_type": "stream",
          "name": "stdout",
          "text": [
            "[0. 7. 0. 6. 5. 0. 0. 0. 0. 3.]\n"
          ]
        }
      ],
      "source": [
        "X = [1,2,3,4,5,6]\n",
        "I = [1,3,9,3,4,1]\n",
        "F = np.bincount(I,X)\n",
        "print(F)"
      ]
    },
    {
      "cell_type": "markdown",
      "metadata": {
        "id": "tCCEFFkavPLf"
      },
      "source": [
        "### ***66. Considering a (w,h,3) image of (dtype=ubyte), compute the number of unique colors (★★★) ***\n",
        "(**hint**: np.unique)"
      ]
    },
    {
      "cell_type": "code",
      "execution_count": null,
      "metadata": {
        "id": "DxXwqZhivPLr",
        "colab": {
          "base_uri": "https://localhost:8080/"
        },
        "outputId": "9a88532b-6a71-4bfb-a0cb-7e1e285ae2e2"
      },
      "outputs": [
        {
          "output_type": "stream",
          "name": "stdout",
          "text": [
            "4\n"
          ]
        }
      ],
      "source": [
        "w, h = 256, 256\n",
        "I = np.random.randint(0, 4, (h, w, 3)).astype(np.ubyte)\n",
        "colors = np.unique(np.reshape(I, h*w*3))\n",
        "n = len(colors)\n",
        "print(n)"
      ]
    },
    {
      "cell_type": "markdown",
      "metadata": {
        "id": "3V21sM1qvPLt"
      },
      "source": [
        "### ***67. Considering a four dimensions array, how to get sum over the last two axis at once? (★★★) ***\n",
        "(**hint**: sum(axis=(-2,-1)))"
      ]
    },
    {
      "cell_type": "code",
      "execution_count": null,
      "metadata": {
        "id": "9eWU4ZUPvPLu",
        "colab": {
          "base_uri": "https://localhost:8080/"
        },
        "outputId": "2dcb64ca-d82e-461a-f814-8542bf9e212e"
      },
      "outputs": [
        {
          "output_type": "execute_result",
          "data": {
            "text/plain": [
              "array([[ 6, 22],\n",
              "       [38, 54]])"
            ]
          },
          "metadata": {},
          "execution_count": 5
        }
      ],
      "source": [
        "X = np.arange(16).reshape(2,2,2,2)\n",
        "X.sum(axis=(-2,-1))"
      ]
    },
    {
      "cell_type": "markdown",
      "metadata": {
        "id": "9ZMAhLAtvPLv"
      },
      "source": [
        "68. **Considering a one-dimensional vector D, how to compute means of subsets of D using a vector S of same size describing subset  indices?** (★★★) \n",
        "(**hint**: np.bincount)"
      ]
    },
    {
      "cell_type": "code",
      "execution_count": null,
      "metadata": {
        "id": "tY5KRex8vPLx",
        "colab": {
          "base_uri": "https://localhost:8080/"
        },
        "outputId": "028f7601-bc4f-48b4-b2c1-b50678c08ede"
      },
      "outputs": [
        {
          "output_type": "stream",
          "name": "stdout",
          "text": [
            "[0.48355375 0.34066724 0.438949   0.46920906 0.43896222 0.61940663\n",
            " 0.57863706 0.52759007 0.33977564 0.60554898]\n"
          ]
        }
      ],
      "source": [
        "D = np.random.uniform(0,1,100)\n",
        "S = np.random.randint(0,10,100)\n",
        "D_sum = np.bincount(S, weights=D)\n",
        "D_counts = np.bincount(S)\n",
        "D_means = D_sum / D_counts\n",
        "print(D_means)"
      ]
    },
    {
      "cell_type": "markdown",
      "metadata": {
        "id": "jEtzIY1kvPLy"
      },
      "source": [
        "#### **69. How to get the diagonal of a dot product?** (★★★) \n",
        "(**hint**: np.diag)"
      ]
    },
    {
      "cell_type": "code",
      "execution_count": null,
      "metadata": {
        "id": "BswdReG2vPLy",
        "colab": {
          "base_uri": "https://localhost:8080/"
        },
        "outputId": "4a7b4230-4811-4920-9b9b-839c7a5f3281"
      },
      "outputs": [
        {
          "output_type": "execute_result",
          "data": {
            "text/plain": [
              "array([36, 15, 23, 32, 23])"
            ]
          },
          "metadata": {},
          "execution_count": 7
        }
      ],
      "source": [
        "A = np.random.randint(1,5,(5,5))\n",
        "B = np.random.randint(1,5,(5,5))\n",
        "np.diag(np.dot(A, B))"
      ]
    },
    {
      "cell_type": "markdown",
      "metadata": {
        "id": "dR70Uv9PvPLy"
      },
      "source": [
        "#### **70. Consider the vector \\[1, 2, 3, 4, 5\\], how to build a new vector with 3 consecutive zeros interleaved between each value?** (★★★) \n",
        "(**hint**: array\\[::4\\])"
      ]
    },
    {
      "cell_type": "code",
      "execution_count": null,
      "metadata": {
        "id": "wCr9-uKovPLz",
        "colab": {
          "base_uri": "https://localhost:8080/"
        },
        "outputId": "f94468ca-9b20-470d-99a2-7a46b11a67fc"
      },
      "outputs": [
        {
          "output_type": "stream",
          "name": "stdout",
          "text": [
            "[1. 0. 0. 0. 2. 0. 0. 0. 3. 0. 0. 0. 4. 0. 0. 0. 5.]\n"
          ]
        }
      ],
      "source": [
        "X = np.array([1,2,3,4,5])\n",
        "num_zeros = 3\n",
        "X_0 = np.zeros(len(X) + (len(X)-1)*(num_zeros))\n",
        "X_0[::num_zeros+1] = X\n",
        "print(X_0)"
      ]
    },
    {
      "cell_type": "markdown",
      "metadata": {
        "id": "uvrYJYNcvPLz"
      },
      "source": [
        "#### ***71. Consider an array of dimension (5,5,3), how to mulitply it by an array with dimensions (5,5)? ***(★★★) \n",
        "(**hint**: array\\[:, :, None\\])"
      ]
    },
    {
      "cell_type": "code",
      "execution_count": null,
      "metadata": {
        "collapsed": true,
        "id": "t9m3IH-pvPL0",
        "colab": {
          "base_uri": "https://localhost:8080/"
        },
        "outputId": "09d4ecbc-1a5b-49b6-9024-f535379faf1a"
      },
      "outputs": [
        {
          "output_type": "stream",
          "name": "stdout",
          "text": [
            "[[[1. 1. 1.]\n",
            "  [1. 1. 1.]\n",
            "  [1. 1. 1.]\n",
            "  [1. 1. 1.]\n",
            "  [1. 1. 1.]]\n",
            "\n",
            " [[1. 1. 1.]\n",
            "  [1. 1. 1.]\n",
            "  [1. 1. 1.]\n",
            "  [1. 1. 1.]\n",
            "  [1. 1. 1.]]\n",
            "\n",
            " [[1. 1. 1.]\n",
            "  [1. 1. 1.]\n",
            "  [1. 1. 1.]\n",
            "  [1. 1. 1.]\n",
            "  [1. 1. 1.]]\n",
            "\n",
            " [[1. 1. 1.]\n",
            "  [1. 1. 1.]\n",
            "  [1. 1. 1.]\n",
            "  [1. 1. 1.]\n",
            "  [1. 1. 1.]]\n",
            "\n",
            " [[1. 1. 1.]\n",
            "  [1. 1. 1.]\n",
            "  [1. 1. 1.]\n",
            "  [1. 1. 1.]\n",
            "  [1. 1. 1.]]]\n"
          ]
        }
      ],
      "source": [
        "A = np.ones((5,5,3))\n",
        "B = np.ones((5,5))\n",
        "print(A * B[:,:,None])"
      ]
    },
    {
      "cell_type": "markdown",
      "metadata": {
        "id": "39thiq8BvPL0"
      },
      "source": [
        "#### **72. How to swap two rows of an array?** (★★★) \n",
        "(**hint**: array\\[\\[\\]\\] = array\\[\\[\\]\\])"
      ]
    },
    {
      "cell_type": "code",
      "execution_count": null,
      "metadata": {
        "id": "Q_F3V-TjvPL0",
        "colab": {
          "base_uri": "https://localhost:8080/"
        },
        "outputId": "c0248c2a-dcca-4bc2-f690-5af3b850b462"
      },
      "outputs": [
        {
          "output_type": "stream",
          "name": "stdout",
          "text": [
            "[[ 0  1  2  3  4]\n",
            " [ 5  6  7  8  9]\n",
            " [10 11 12 13 14]\n",
            " [15 16 17 18 19]\n",
            " [20 21 22 23 24]]\n",
            "[[ 5  6  7  8  9]\n",
            " [ 0  1  2  3  4]\n",
            " [10 11 12 13 14]\n",
            " [15 16 17 18 19]\n",
            " [20 21 22 23 24]]\n"
          ]
        }
      ],
      "source": [
        "X = np.arange(25).reshape(5,5)\n",
        "print(X)\n",
        "X[[0,1]] = X[[1,0]]\n",
        "print(X)"
      ]
    },
    {
      "cell_type": "markdown",
      "metadata": {
        "id": "t2SIBahvvPL1"
      },
      "source": [
        "#### ***73. Consider a set of 10 triplets describing 10 triangles (with shared vertices), find the set of unique line segments composing all the  triangles ***(★★★) \n",
        "(**hint**: repeat, np.roll, np.sort, view, np.unique)"
      ]
    },
    {
      "cell_type": "code",
      "execution_count": null,
      "metadata": {
        "id": "zqT0RUFxvPL1",
        "colab": {
          "base_uri": "https://localhost:8080/"
        },
        "outputId": "bbf2be5a-057b-4257-a93c-dc64b8520196"
      },
      "outputs": [
        {
          "output_type": "stream",
          "name": "stdout",
          "text": [
            "[( 0,  2) ( 0, 99) ( 1, 90) ( 1, 94) ( 2, 99) ( 5, 66) ( 5, 95) ( 7, 41)\n",
            " ( 7, 74) ( 8, 24) ( 8, 79) (11, 18) (11, 66) (18, 66) (24, 29) (24, 72)\n",
            " (24, 79) (29, 72) (37, 47) (37, 53) (40, 70) (40, 87) (41, 74) (47, 53)\n",
            " (61, 63) (61, 88) (63, 88) (66, 95) (70, 87) (90, 94)]\n"
          ]
        }
      ],
      "source": [
        "faces = np.random.randint(0,100,(10,3))\n",
        "F = np.roll(faces.repeat(2,axis=1),-1,axis=1)\n",
        "F = F.reshape(len(F)*3,2)\n",
        "F = np.sort(F,axis=1)\n",
        "G = F.view( dtype=[('p0',F.dtype),('p1',F.dtype)] )\n",
        "G = np.unique(G)\n",
        "print(G)"
      ]
    },
    {
      "cell_type": "markdown",
      "metadata": {
        "id": "pqfuzxksvPL1"
      },
      "source": [
        "#### **74. Given an array C that is a bincount, how to produce an array A such that np.bincount(A) == C?** (★★★) \n",
        "(**hint**: np.repeat)"
      ]
    },
    {
      "cell_type": "code",
      "execution_count": null,
      "metadata": {
        "id": "sDtFAbPMvPL2",
        "colab": {
          "base_uri": "https://localhost:8080/"
        },
        "outputId": "ee2fd9de-ff79-43d2-eb8a-7c08499d4aa8"
      },
      "outputs": [
        {
          "output_type": "stream",
          "name": "stdout",
          "text": [
            "[0 2 1 1 2 0 1] [0 2 1 1 2 0 1]\n"
          ]
        }
      ],
      "source": [
        "C = np.bincount([1,1,2,3,4,4,6])\n",
        "A = np.repeat(np.arange(len(C)), C)\n",
        "print(C,np.bincount(A))"
      ]
    },
    {
      "cell_type": "markdown",
      "metadata": {
        "id": "bUOCS9_4vPL2"
      },
      "source": [
        "#### **75. How to compute averages using a sliding window over an array?** (★★★) \n",
        "(**hint**: np.cumsum)"
      ]
    },
    {
      "cell_type": "code",
      "execution_count": null,
      "metadata": {
        "id": "SGOd10zevPL2",
        "colab": {
          "base_uri": "https://localhost:8080/"
        },
        "outputId": "a83b9edf-4602-4491-a539-02fffedf5c82"
      },
      "outputs": [
        {
          "output_type": "stream",
          "name": "stdout",
          "text": [
            "[ 1.  2.  3.  4.  5.  6.  7.  8.  9. 10. 11. 12. 13. 14. 15. 16. 17. 18.]\n"
          ]
        }
      ],
      "source": [
        "def moving_average(a, n=3) :\n",
        "    ret = np.cumsum(a, dtype=float)\n",
        "    ret[n:] = ret[n:] - ret[:-n]\n",
        "    return ret[n - 1:] / n\n",
        "Z = np.arange(20)\n",
        "print(moving_average(Z, n=3))"
      ]
    },
    {
      "cell_type": "markdown",
      "metadata": {
        "id": "Yziex2k4vPL2"
      },
      "source": [
        "#### **76. Consider a one-dimensional array Z, build a two-dimensional array whose first row is (Z\\[0\\],Z\\[1\\],Z\\[2\\]) and each subsequent row is  shifted by 1 (last row should be (Z\\[-3\\],Z\\[-2\\],Z\\[-1\\])** (★★★) \n",
        "(**hint**: from numpy.lib import stride_tricks)"
      ]
    },
    {
      "cell_type": "code",
      "execution_count": null,
      "metadata": {
        "id": "2OO4tcpOvPL3",
        "colab": {
          "base_uri": "https://localhost:8080/"
        },
        "outputId": "e6f1a0a2-cc32-4f9c-9d7e-915359fb3bac"
      },
      "outputs": [
        {
          "output_type": "stream",
          "name": "stdout",
          "text": [
            "[[0 1 2]\n",
            " [1 2 3]\n",
            " [2 3 4]\n",
            " [3 4 5]\n",
            " [4 5 6]\n",
            " [5 6 7]\n",
            " [6 7 8]\n",
            " [7 8 9]]\n"
          ]
        }
      ],
      "source": [
        "from numpy.lib import stride_tricks\n",
        "\n",
        "def rolling_array(a, window):\n",
        "    shape = (a.size - window + 1, window)\n",
        "    strides = (a.strides[0], a.strides[0])\n",
        "    return stride_tricks.as_strided(a, shape=shape, strides=strides)\n",
        "Z = rolling_array(np.arange(10), 3)\n",
        "print(Z)"
      ]
    },
    {
      "cell_type": "markdown",
      "metadata": {
        "id": "EK_RhBfAvPL4"
      },
      "source": [
        "#### 77. ***How to negate a boolean, or to change the sign of a float inplace? ***(★★★) \n",
        "(**hint**: np.logical_not, np.negative)"
      ]
    },
    {
      "cell_type": "code",
      "execution_count": null,
      "metadata": {
        "id": "lz3L8DPavPL4",
        "colab": {
          "base_uri": "https://localhost:8080/"
        },
        "outputId": "b3543226-3e85-40e3-ae41-59276b2bae53"
      },
      "outputs": [
        {
          "output_type": "execute_result",
          "data": {
            "text/plain": [
              "array([ 0.38402694, -0.76585757,  0.06001244,  0.95796618,  0.54613368,\n",
              "       -0.5206833 , -0.89938558,  0.24862303,  0.99060001, -0.59267878,\n",
              "        0.75944182,  0.09193092, -0.41105319,  0.74459537, -0.14164561,\n",
              "       -0.33160194, -0.25976339, -0.46510642,  0.42968453, -0.26559457,\n",
              "        0.93105917, -0.27370246, -0.064833  , -0.25039056,  0.18181884,\n",
              "       -0.87775782, -0.66975832,  0.60037282, -0.22356288, -0.57194977,\n",
              "        0.4260319 ,  0.87875778, -0.10825051,  0.56949316,  0.1681574 ,\n",
              "        0.8592347 ,  0.18124299,  0.35168287,  0.82552682,  0.40686139,\n",
              "       -0.26037923, -0.91774383, -0.95445556, -0.90900764,  0.73589704,\n",
              "       -0.18961716, -0.42165897, -0.51789741, -0.25191907, -0.93720849,\n",
              "        0.83772182,  0.04537855, -0.39337007,  0.65390058, -0.26447063,\n",
              "        0.86248298, -0.00161798,  0.490358  ,  0.55292756, -0.05535256,\n",
              "       -0.57007792,  0.63147892,  0.72760667,  0.43893133,  0.74601607,\n",
              "        0.43802988,  0.15982397, -0.54548848, -0.83386623, -0.77202705,\n",
              "       -0.41720058,  0.33341896, -0.88549178,  0.33218637, -0.03028757,\n",
              "        0.21156787,  0.85452227, -0.70217534, -0.47169662, -0.34198314,\n",
              "       -0.55926471,  0.04642781,  0.47371234,  0.63042838, -0.80638281,\n",
              "        0.92930814, -0.54831485,  0.0478029 ,  0.1222733 , -0.24871906,\n",
              "        0.86917044,  0.10548787,  0.07577621, -0.95603895,  0.64219957,\n",
              "       -0.86494838,  0.37770209, -0.95505223, -0.91813314,  0.01206474])"
            ]
          },
          "metadata": {},
          "execution_count": 15
        }
      ],
      "source": [
        "Z = np.random.randint(0,2,100)\n",
        "np.logical_not(Z, out=Z)\n",
        "\n",
        "Z = np.random.uniform(-1.0,1.0,100)\n",
        "np.negative(Z, out=Z)"
      ]
    },
    {
      "cell_type": "markdown",
      "metadata": {
        "id": "NaHGQBcXvPL5"
      },
      "source": [
        "#### **78. Consider 2 sets of points P0,P1 describing lines (2d) and a point p, how to compute distance from p to each line i  (P0\\[i\\],P1\\[i\\])?** (★★★)"
      ]
    },
    {
      "cell_type": "code",
      "execution_count": null,
      "metadata": {
        "id": "KtH4CWsGvPL5",
        "colab": {
          "base_uri": "https://localhost:8080/"
        },
        "outputId": "be956dda-be49-4bdf-bf67-e3fd57fa95d0"
      },
      "outputs": [
        {
          "output_type": "stream",
          "name": "stdout",
          "text": [
            "[6.94174831 5.96093999 7.06459344 3.1897711  5.37183259 3.91487319\n",
            " 3.89674668 2.54395062 3.18312954 4.98052081]\n"
          ]
        }
      ],
      "source": [
        "def distance(P0, P1, p):\n",
        "    T = P1 - P0\n",
        "    L = (T**2).sum(axis=1)\n",
        "    U = -((P0[:,0]-p[...,0])*T[:,0] + (P0[:,1]-p[...,1])*T[:,1]) / L\n",
        "    U = U.reshape(len(U),1)\n",
        "    D = P0 + U*T - p\n",
        "    return np.sqrt((D**2).sum(axis=1))\n",
        "\n",
        "P0 = np.random.uniform(-10,10,(10,2))\n",
        "P1 = np.random.uniform(-10,10,(10,2))\n",
        "p  = np.random.uniform(-10,10,( 1,2))\n",
        "print(distance(P0, P1, p))"
      ]
    },
    {
      "cell_type": "markdown",
      "metadata": {
        "id": "2fii0tJsvPL5"
      },
      "source": [
        "####*** 79. Consider 2 sets of points P0,P1 describing lines (2d) and a set of points P, how to compute distance from each point j (P\\[j\\]) to each line i (P0\\[i\\],P1\\[i\\])?*** (★★★)"
      ]
    },
    {
      "cell_type": "code",
      "execution_count": null,
      "metadata": {
        "id": "h_Hk3UxRvPL6",
        "colab": {
          "base_uri": "https://localhost:8080/"
        },
        "outputId": "d4393698-f0c3-42e2-b103-ccb1d5e69b08"
      },
      "outputs": [
        {
          "output_type": "stream",
          "name": "stdout",
          "text": [
            "[[1.03162304e+01 1.61342771e+01 4.59279047e+00 4.72734895e+00\n",
            "  8.68071724e+00 2.38500981e-01 1.10581287e-01 4.54838952e+00\n",
            "  1.62238155e+00 1.28936314e+00]\n",
            " [8.55158351e+00 1.55750984e+01 6.56766253e+00 2.53617143e+00\n",
            "  1.04016619e+01 1.67084750e+00 1.54328526e+00 5.66555156e+00\n",
            "  4.71413817e-01 3.24139999e+00]\n",
            " [2.03112725e+00 3.55718915e-01 7.55020954e+00 1.37945159e+01\n",
            "  5.58220790e+00 1.55671333e+01 9.25453478e+00 1.23015679e+01\n",
            "  1.14382361e+01 7.38747574e+00]\n",
            " [1.48520948e+01 1.53376561e+01 4.12058540e+00 1.36468021e+01\n",
            "  4.62474079e-01 7.26981063e+00 4.08992817e+00 2.07580651e+00\n",
            "  3.28041292e+00 4.24903500e+00]\n",
            " [4.53134216e+00 1.33993574e+01 9.59857153e+00 1.12878421e+00\n",
            "  1.27904632e+01 3.38928999e+00 5.42085410e+00 6.69579445e+00\n",
            "  2.67570137e+00 7.47828897e+00]\n",
            " [4.69456463e+00 8.64417092e+00 1.58962448e+00 6.14723321e+00\n",
            "  4.46596152e+00 4.97712354e+00 5.85265587e+00 1.48231594e+00\n",
            "  5.36745183e+00 6.17695556e+00]\n",
            " [7.79188893e+00 8.78202941e+00 3.25020857e+00 1.12345864e+01\n",
            "  1.23220335e-02 8.93625344e+00 3.05240330e+00 4.86030022e+00\n",
            "  3.83835140e+00 2.55402507e+00]\n",
            " [4.27121197e+00 3.22297268e+00 7.42270658e+00 1.18899195e+00\n",
            "  8.82691232e+00 2.11929978e+00 1.45694650e+01 1.40449448e-01\n",
            "  1.27172174e+01 1.54932344e+01]\n",
            " [8.25114945e+00 7.86104235e+00 5.50061141e+00 1.33742287e+01\n",
            "  2.24721838e+00 1.11359061e+01 2.75171965e+00 6.94261325e+00\n",
            "  4.15964840e+00 1.79732620e+00]\n",
            " [5.05819850e+00 1.67700312e+00 6.19242808e+00 2.58273359e-01\n",
            "  7.39193740e+00 3.70148734e+00 1.54647812e+01 1.82027280e+00\n",
            "  1.39852937e+01 1.60614791e+01]]\n"
          ]
        }
      ],
      "source": [
        "P0 = np.random.uniform(-10, 10, (10,2))\n",
        "P1 = np.random.uniform(-10,10,(10,2))\n",
        "p = np.random.uniform(-10, 10, (10,2))\n",
        "print(np.array([distance(P0,P1,p_i) for p_i in p]))"
      ]
    },
    {
      "cell_type": "markdown",
      "metadata": {
        "id": "E43hUAeovPL6"
      },
      "source": [
        "#### **80. Consider an arbitrary array, write a function that extract a subpart with a fixed shape and centered on a given element (pad with a `fill` value when necessary)** (★★★) \n",
        "(**hint**: minimum, maximum)"
      ]
    },
    {
      "cell_type": "code",
      "execution_count": null,
      "metadata": {
        "id": "aFTT_buivPL6",
        "colab": {
          "base_uri": "https://localhost:8080/"
        },
        "outputId": "f67c0077-66c8-46e6-c228-d2db1d8396a9"
      },
      "outputs": [
        {
          "output_type": "stream",
          "name": "stdout",
          "text": [
            "[[6 1 2 3 2 2 8 1 2 9]\n",
            " [1 1 0 6 1 2 9 7 1 5]\n",
            " [3 1 1 2 6 5 6 7 8 4]\n",
            " [2 8 3 2 0 5 3 0 2 3]\n",
            " [9 8 9 9 3 6 1 9 3 8]\n",
            " [4 6 9 6 0 0 6 3 9 7]\n",
            " [5 1 5 2 5 7 6 9 2 8]\n",
            " [5 0 8 4 6 6 5 7 5 7]\n",
            " [8 9 4 0 7 2 3 1 5 9]\n",
            " [8 9 8 8 4 9 9 6 7 0]]\n",
            "[[0 0 0 0 0]\n",
            " [0 6 1 2 3]\n",
            " [0 1 1 0 6]\n",
            " [0 3 1 1 2]\n",
            " [0 2 8 3 2]]\n"
          ]
        },
        {
          "output_type": "stream",
          "name": "stderr",
          "text": [
            "/usr/local/lib/python3.7/dist-packages/ipykernel_launcher.py:22: FutureWarning: Using a non-tuple sequence for multidimensional indexing is deprecated; use `arr[tuple(seq)]` instead of `arr[seq]`. In the future this will be interpreted as an array index, `arr[np.array(seq)]`, which will result either in an error or a different result.\n"
          ]
        }
      ],
      "source": [
        "Z = np.random.randint(0,10,(10,10))\n",
        "shape = (5,5)\n",
        "fill  = 0\n",
        "position = (1,1)\n",
        "\n",
        "R = np.ones(shape, dtype=Z.dtype)*fill\n",
        "P  = np.array(list(position)).astype(int)\n",
        "Rs = np.array(list(R.shape)).astype(int)\n",
        "Zs = np.array(list(Z.shape)).astype(int)\n",
        "R_start = np.zeros((len(shape),)).astype(int)\n",
        "R_stop  = np.array(list(shape)).astype(int)\n",
        "Z_start = (P-Rs//2)\n",
        "Z_stop  = (P+Rs//2)+Rs%2\n",
        "\n",
        "R_start = (R_start - np.minimum(Z_start,0)).tolist()\n",
        "Z_start = (np.maximum(Z_start,0)).tolist()\n",
        "R_stop = np.maximum(R_start, (R_stop - np.maximum(Z_stop-Zs,0))).tolist()\n",
        "Z_stop = (np.minimum(Z_stop,Zs)).tolist()\n",
        "\n",
        "r = [slice(start,stop) for start,stop in zip(R_start,R_stop)]\n",
        "z = [slice(start,stop) for start,stop in zip(Z_start,Z_stop)]\n",
        "R[r] = Z[z]\n",
        "print(Z)\n",
        "print(R)"
      ]
    },
    {
      "cell_type": "markdown",
      "metadata": {
        "id": "l2W1HPtpvPL7"
      },
      "source": [
        "#### **81. Consider an array Z = \\[1,2,3,4,5,6,7,8,9,10,11,12,13,14\\], how to generate an array R = \\[\\[1,2,3,4\\], \\[2,3,4,5\\], \\[3,4,5,6\\], ..., \\[11,12,13,14\\]\\]?** (★★★) \n",
        "(**hint**: stride\\_tricks.as\\_strided)"
      ]
    },
    {
      "cell_type": "code",
      "execution_count": null,
      "metadata": {
        "id": "ImQrznwIvPL7",
        "colab": {
          "base_uri": "https://localhost:8080/"
        },
        "outputId": "7f34d165-b939-4a56-d497-24222f97369c"
      },
      "outputs": [
        {
          "output_type": "stream",
          "name": "stdout",
          "text": [
            "[[ 1  2  3  4]\n",
            " [ 2  3  4  5]\n",
            " [ 3  4  5  6]\n",
            " [ 4  5  6  7]\n",
            " [ 5  6  7  8]\n",
            " [ 6  7  8  9]\n",
            " [ 7  8  9 10]\n",
            " [ 8  9 10 11]\n",
            " [ 9 10 11 12]\n",
            " [10 11 12 13]\n",
            " [11 12 13 14]]\n"
          ]
        }
      ],
      "source": [
        "Z = np.arange(1,15,dtype=np.int32)\n",
        "R = stride_tricks.as_strided(Z,(11,4),(4,4))\n",
        "print(R)"
      ]
    },
    {
      "cell_type": "markdown",
      "metadata": {
        "id": "d8W3qU__vPL7"
      },
      "source": [
        "#### **82. Compute a matrix rank** (★★★) \n",
        "(**hint**: np.linalg.svd) (suggestion: np.linalg.svd)"
      ]
    },
    {
      "cell_type": "code",
      "execution_count": null,
      "metadata": {
        "id": "shZEChcBvPL8",
        "colab": {
          "base_uri": "https://localhost:8080/"
        },
        "outputId": "bd010c87-6985-43ac-b9fa-8f61263fb867"
      },
      "outputs": [
        {
          "output_type": "stream",
          "name": "stdout",
          "text": [
            "10\n"
          ]
        }
      ],
      "source": [
        "Z = np.random.uniform(0,1,(10,10))\n",
        "\n",
        "rank = np.linalg.matrix_rank(Z)\n",
        "print(rank)"
      ]
    },
    {
      "cell_type": "markdown",
      "metadata": {
        "id": "ZU3GhT_xvPL8"
      },
      "source": [
        "#### ***83. How to find the most frequent value in an array? ***\n",
        "(**hint**: np.bincount, argmax)"
      ]
    },
    {
      "cell_type": "code",
      "execution_count": null,
      "metadata": {
        "id": "Hhj89M_gvPL8",
        "colab": {
          "base_uri": "https://localhost:8080/"
        },
        "outputId": "211a4eb5-bea4-4ac3-f333-5ec4f29d22d1"
      },
      "outputs": [
        {
          "output_type": "stream",
          "name": "stdout",
          "text": [
            "[7 3 1 2 2 3 5 8 0 8 4 6 0 4 4 1 8 3 3 9 5 6 8 0 3 8 1 8 2 3 2 1 7 2 6 8 7\n",
            " 5 7 6 8 0 7 4 0 1 0 7 1 4]\n",
            "8\n"
          ]
        }
      ],
      "source": [
        "X = np.random.randint(0,10,50)\n",
        "print(X)\n",
        "print(np.bincount(X).argmax())"
      ]
    },
    {
      "cell_type": "markdown",
      "metadata": {
        "id": "S3eHHtDFvPL8"
      },
      "source": [
        "#### **84. Extract all the contiguous 3x3 blocks from a random 10x10 matrix** (★★★) \n",
        "(**hint**: stride\\_tricks.as\\_strided)"
      ]
    },
    {
      "cell_type": "code",
      "execution_count": null,
      "metadata": {
        "id": "JLAqIzpKvPL9",
        "colab": {
          "base_uri": "https://localhost:8080/"
        },
        "outputId": "e9697f40-5743-49ea-8969-abb1713df8f8"
      },
      "outputs": [
        {
          "output_type": "stream",
          "name": "stdout",
          "text": [
            "[[[[3 2 1]\n",
            "   [2 0 4]\n",
            "   [1 0 2]]\n",
            "\n",
            "  [[2 1 1]\n",
            "   [0 4 2]\n",
            "   [0 2 2]]\n",
            "\n",
            "  [[1 1 1]\n",
            "   [4 2 2]\n",
            "   [2 2 1]]\n",
            "\n",
            "  [[1 1 2]\n",
            "   [2 2 2]\n",
            "   [2 1 2]]\n",
            "\n",
            "  [[1 2 0]\n",
            "   [2 2 3]\n",
            "   [1 2 3]]\n",
            "\n",
            "  [[2 0 0]\n",
            "   [2 3 1]\n",
            "   [2 3 1]]\n",
            "\n",
            "  [[0 0 4]\n",
            "   [3 1 1]\n",
            "   [3 1 1]]\n",
            "\n",
            "  [[0 4 0]\n",
            "   [1 1 1]\n",
            "   [1 1 0]]]\n",
            "\n",
            "\n",
            " [[[2 0 4]\n",
            "   [1 0 2]\n",
            "   [2 2 3]]\n",
            "\n",
            "  [[0 4 2]\n",
            "   [0 2 2]\n",
            "   [2 3 1]]\n",
            "\n",
            "  [[4 2 2]\n",
            "   [2 2 1]\n",
            "   [3 1 3]]\n",
            "\n",
            "  [[2 2 2]\n",
            "   [2 1 2]\n",
            "   [1 3 4]]\n",
            "\n",
            "  [[2 2 3]\n",
            "   [1 2 3]\n",
            "   [3 4 0]]\n",
            "\n",
            "  [[2 3 1]\n",
            "   [2 3 1]\n",
            "   [4 0 2]]\n",
            "\n",
            "  [[3 1 1]\n",
            "   [3 1 1]\n",
            "   [0 2 1]]\n",
            "\n",
            "  [[1 1 1]\n",
            "   [1 1 0]\n",
            "   [2 1 4]]]\n",
            "\n",
            "\n",
            " [[[1 0 2]\n",
            "   [2 2 3]\n",
            "   [3 4 4]]\n",
            "\n",
            "  [[0 2 2]\n",
            "   [2 3 1]\n",
            "   [4 4 4]]\n",
            "\n",
            "  [[2 2 1]\n",
            "   [3 1 3]\n",
            "   [4 4 4]]\n",
            "\n",
            "  [[2 1 2]\n",
            "   [1 3 4]\n",
            "   [4 4 4]]\n",
            "\n",
            "  [[1 2 3]\n",
            "   [3 4 0]\n",
            "   [4 4 1]]\n",
            "\n",
            "  [[2 3 1]\n",
            "   [4 0 2]\n",
            "   [4 1 1]]\n",
            "\n",
            "  [[3 1 1]\n",
            "   [0 2 1]\n",
            "   [1 1 1]]\n",
            "\n",
            "  [[1 1 0]\n",
            "   [2 1 4]\n",
            "   [1 1 2]]]\n",
            "\n",
            "\n",
            " [[[2 2 3]\n",
            "   [3 4 4]\n",
            "   [1 1 4]]\n",
            "\n",
            "  [[2 3 1]\n",
            "   [4 4 4]\n",
            "   [1 4 1]]\n",
            "\n",
            "  [[3 1 3]\n",
            "   [4 4 4]\n",
            "   [4 1 2]]\n",
            "\n",
            "  [[1 3 4]\n",
            "   [4 4 4]\n",
            "   [1 2 0]]\n",
            "\n",
            "  [[3 4 0]\n",
            "   [4 4 1]\n",
            "   [2 0 2]]\n",
            "\n",
            "  [[4 0 2]\n",
            "   [4 1 1]\n",
            "   [0 2 0]]\n",
            "\n",
            "  [[0 2 1]\n",
            "   [1 1 1]\n",
            "   [2 0 3]]\n",
            "\n",
            "  [[2 1 4]\n",
            "   [1 1 2]\n",
            "   [0 3 0]]]\n",
            "\n",
            "\n",
            " [[[3 4 4]\n",
            "   [1 1 4]\n",
            "   [4 0 0]]\n",
            "\n",
            "  [[4 4 4]\n",
            "   [1 4 1]\n",
            "   [0 0 2]]\n",
            "\n",
            "  [[4 4 4]\n",
            "   [4 1 2]\n",
            "   [0 2 0]]\n",
            "\n",
            "  [[4 4 4]\n",
            "   [1 2 0]\n",
            "   [2 0 1]]\n",
            "\n",
            "  [[4 4 1]\n",
            "   [2 0 2]\n",
            "   [0 1 1]]\n",
            "\n",
            "  [[4 1 1]\n",
            "   [0 2 0]\n",
            "   [1 1 0]]\n",
            "\n",
            "  [[1 1 1]\n",
            "   [2 0 3]\n",
            "   [1 0 1]]\n",
            "\n",
            "  [[1 1 2]\n",
            "   [0 3 0]\n",
            "   [0 1 3]]]\n",
            "\n",
            "\n",
            " [[[1 1 4]\n",
            "   [4 0 0]\n",
            "   [3 3 3]]\n",
            "\n",
            "  [[1 4 1]\n",
            "   [0 0 2]\n",
            "   [3 3 2]]\n",
            "\n",
            "  [[4 1 2]\n",
            "   [0 2 0]\n",
            "   [3 2 2]]\n",
            "\n",
            "  [[1 2 0]\n",
            "   [2 0 1]\n",
            "   [2 2 0]]\n",
            "\n",
            "  [[2 0 2]\n",
            "   [0 1 1]\n",
            "   [2 0 4]]\n",
            "\n",
            "  [[0 2 0]\n",
            "   [1 1 0]\n",
            "   [0 4 1]]\n",
            "\n",
            "  [[2 0 3]\n",
            "   [1 0 1]\n",
            "   [4 1 1]]\n",
            "\n",
            "  [[0 3 0]\n",
            "   [0 1 3]\n",
            "   [1 1 2]]]\n",
            "\n",
            "\n",
            " [[[4 0 0]\n",
            "   [3 3 3]\n",
            "   [3 4 2]]\n",
            "\n",
            "  [[0 0 2]\n",
            "   [3 3 2]\n",
            "   [4 2 3]]\n",
            "\n",
            "  [[0 2 0]\n",
            "   [3 2 2]\n",
            "   [2 3 4]]\n",
            "\n",
            "  [[2 0 1]\n",
            "   [2 2 0]\n",
            "   [3 4 2]]\n",
            "\n",
            "  [[0 1 1]\n",
            "   [2 0 4]\n",
            "   [4 2 3]]\n",
            "\n",
            "  [[1 1 0]\n",
            "   [0 4 1]\n",
            "   [2 3 1]]\n",
            "\n",
            "  [[1 0 1]\n",
            "   [4 1 1]\n",
            "   [3 1 3]]\n",
            "\n",
            "  [[0 1 3]\n",
            "   [1 1 2]\n",
            "   [1 3 3]]]\n",
            "\n",
            "\n",
            " [[[3 3 3]\n",
            "   [3 4 2]\n",
            "   [2 3 0]]\n",
            "\n",
            "  [[3 3 2]\n",
            "   [4 2 3]\n",
            "   [3 0 0]]\n",
            "\n",
            "  [[3 2 2]\n",
            "   [2 3 4]\n",
            "   [0 0 1]]\n",
            "\n",
            "  [[2 2 0]\n",
            "   [3 4 2]\n",
            "   [0 1 3]]\n",
            "\n",
            "  [[2 0 4]\n",
            "   [4 2 3]\n",
            "   [1 3 2]]\n",
            "\n",
            "  [[0 4 1]\n",
            "   [2 3 1]\n",
            "   [3 2 4]]\n",
            "\n",
            "  [[4 1 1]\n",
            "   [3 1 3]\n",
            "   [2 4 4]]\n",
            "\n",
            "  [[1 1 2]\n",
            "   [1 3 3]\n",
            "   [4 4 0]]]]\n"
          ]
        }
      ],
      "source": [
        "Z = np.random.randint(0,5,(10,10))\n",
        "n = 3\n",
        "i = 1 + (Z.shape[0]-3)\n",
        "j = 1 + (Z.shape[1]-3)\n",
        "C = stride_tricks.as_strided(Z, shape=(i, j, n, n), strides=Z.strides + Z.strides)\n",
        "print(C)"
      ]
    },
    {
      "cell_type": "markdown",
      "metadata": {
        "id": "rObT5HyivPL9"
      },
      "source": [
        "####*** 85. Create a 2D array subclass such that Z\\[i,j\\] == Z\\[j,i\\]*** (★★★) \n",
        "(**hint**: class method)"
      ]
    },
    {
      "cell_type": "code",
      "execution_count": null,
      "metadata": {
        "id": "mCi6cXhyvPL9",
        "colab": {
          "base_uri": "https://localhost:8080/"
        },
        "outputId": "65186e17-c4a3-455b-89aa-0483cbde3568"
      },
      "outputs": [
        {
          "output_type": "stream",
          "name": "stdout",
          "text": [
            "[[ 3 14  9 11  8]\n",
            " [14  7  4  4  5]\n",
            " [ 9  4  6 42 11]\n",
            " [11  4 42  3  6]\n",
            " [ 8  5 11  6  5]]\n"
          ]
        }
      ],
      "source": [
        "class Symetric(np.ndarray):\n",
        "    def __setitem__(self, index, value):\n",
        "        i,j = index\n",
        "        super(Symetric, self).__setitem__((i,j), value)\n",
        "        super(Symetric, self).__setitem__((j,i), value)\n",
        "\n",
        "def symetric(Z):\n",
        "    return np.asarray(Z + Z.T - np.diag(Z.diagonal())).view(Symetric)\n",
        "\n",
        "S = symetric(np.random.randint(0,10,(5,5)))\n",
        "S[2,3] = 42\n",
        "print(S)"
      ]
    },
    {
      "cell_type": "markdown",
      "metadata": {
        "id": "-WxjvRVZvPL9"
      },
      "source": [
        "#### ***86. Consider a set of p matrices wich shape (n,n) and a set of p vectors with shape (n,1). How to compute the sum of of the p matrix products at once? (result has shape (n,1)) ***(★★★) \n",
        "(**hint**: np.tensordot)"
      ]
    },
    {
      "cell_type": "code",
      "execution_count": null,
      "metadata": {
        "id": "4CESyFoJvPL-",
        "colab": {
          "base_uri": "https://localhost:8080/"
        },
        "outputId": "479c9e8c-55c5-48f8-9c97-a89e605ace59"
      },
      "outputs": [
        {
          "output_type": "stream",
          "name": "stdout",
          "text": [
            "(20, 1)\n"
          ]
        }
      ],
      "source": [
        "p, n = 10, 20\n",
        "M = np.ones((p,n,n))\n",
        "V = np.ones((p,n,1))\n",
        "S = np.tensordot(M, V, axes=[[0, 2], [0, 1]])\n",
        "print(S.shape)"
      ]
    },
    {
      "cell_type": "markdown",
      "metadata": {
        "id": "Z3U8uvhTvPL-"
      },
      "source": [
        "#### 87. **Consider a 16x16 array, how to get the block-sum (block size is 4x4)?** (★★★) \n",
        "(**hint**: np.add.reduceat)"
      ]
    },
    {
      "cell_type": "code",
      "execution_count": null,
      "metadata": {
        "id": "_CmrdQcPvPL-",
        "colab": {
          "base_uri": "https://localhost:8080/"
        },
        "outputId": "d1b0dbe5-d163-4a76-a749-1a4ed9815121"
      },
      "outputs": [
        {
          "output_type": "stream",
          "name": "stdout",
          "text": [
            "[[16. 16. 16. 16.]\n",
            " [16. 16. 16. 16.]\n",
            " [16. 16. 16. 16.]\n",
            " [16. 16. 16. 16.]]\n"
          ]
        }
      ],
      "source": [
        "Z = np.ones((16,16))\n",
        "k = 4\n",
        "S = np.add.reduceat(np.add.reduceat(Z, np.arange(0, Z.shape[0], k), axis=0),\n",
        "                                       np.arange(0, Z.shape[1], k), axis=1)\n",
        "print(S)"
      ]
    },
    {
      "cell_type": "markdown",
      "metadata": {
        "id": "sIIoZ6kqvPL-"
      },
      "source": [
        "#### **88. How to implement the Game of Life using numpy arrays?** (★★★)"
      ]
    },
    {
      "cell_type": "code",
      "execution_count": null,
      "metadata": {
        "id": "x-svfwMmvPL-",
        "colab": {
          "base_uri": "https://localhost:8080/"
        },
        "outputId": "5c351fbb-d322-4b40-bcca-d49ae9cd8ba0"
      },
      "outputs": [
        {
          "output_type": "stream",
          "name": "stdout",
          "text": [
            "[[0 0 0 ... 0 0 0]\n",
            " [0 0 0 ... 0 0 0]\n",
            " [0 0 0 ... 0 0 0]\n",
            " ...\n",
            " [0 0 0 ... 0 0 0]\n",
            " [0 0 0 ... 0 0 0]\n",
            " [0 0 0 ... 0 0 0]]\n"
          ]
        }
      ],
      "source": [
        "def iterate(Z):\n",
        "    # Count neighbours\n",
        "    N = (Z[0:-2,0:-2] + Z[0:-2,1:-1] + Z[0:-2,2:] +\n",
        "         Z[1:-1,0:-2]                + Z[1:-1,2:] +\n",
        "         Z[2:  ,0:-2] + Z[2:  ,1:-1] + Z[2:  ,2:])\n",
        "\n",
        "    # Apply rules\n",
        "    birth = (N==3) & (Z[1:-1,1:-1]==0)\n",
        "    survive = ((N==2) | (N==3)) & (Z[1:-1,1:-1]==1)\n",
        "    Z[...] = 0\n",
        "    Z[1:-1,1:-1][birth | survive] = 1\n",
        "    return Z\n",
        "\n",
        "Z = np.random.randint(0,2,(50,50))\n",
        "for i in range(100): Z = iterate(Z)\n",
        "print(Z)"
      ]
    },
    {
      "cell_type": "markdown",
      "metadata": {
        "id": "0eo-0KwzvPL-"
      },
      "source": [
        "#### **89. How to get the n largest values of an array** (★★★) \n",
        "(**hint**: np.argsort | np.argpartition)"
      ]
    },
    {
      "cell_type": "code",
      "execution_count": null,
      "metadata": {
        "id": "WtlS93wcvPL-",
        "colab": {
          "base_uri": "https://localhost:8080/"
        },
        "outputId": "ca3f5207-98c2-4513-e8bd-7973096f0f63"
      },
      "outputs": [
        {
          "output_type": "stream",
          "name": "stdout",
          "text": [
            "[9995 9996 9997 9998 9999]\n",
            "[9999 9998 9997 9996 9995]\n"
          ]
        }
      ],
      "source": [
        "Z = np.arange(10000)\n",
        "np.random.shuffle(Z)\n",
        "n = 5\n",
        "\n",
        "# Slow\n",
        "print (Z[np.argsort(Z)[-n:]])\n",
        "\n",
        "# Fast\n",
        "print (Z[np.argpartition(-Z,n)[:n]])"
      ]
    },
    {
      "cell_type": "markdown",
      "metadata": {
        "id": "sfrKb69jvPL_"
      },
      "source": [
        "####*** 90. Given an arbitrary number of vectors, build the cartesian product (every combinations of every item)*** (★★★) \n",
        "(**hint**: np.indices)"
      ]
    },
    {
      "cell_type": "code",
      "execution_count": null,
      "metadata": {
        "scrolled": true,
        "id": "OHGlak42vPL_",
        "colab": {
          "base_uri": "https://localhost:8080/"
        },
        "outputId": "9078feb2-7008-4b36-ce62-55ae9f7cdbf7"
      },
      "outputs": [
        {
          "output_type": "stream",
          "name": "stdout",
          "text": [
            "[[1 4 6]\n",
            " [1 4 7]\n",
            " [1 5 6]\n",
            " [1 5 7]\n",
            " [2 4 6]\n",
            " [2 4 7]\n",
            " [2 5 6]\n",
            " [2 5 7]\n",
            " [3 4 6]\n",
            " [3 4 7]\n",
            " [3 5 6]\n",
            " [3 5 7]]\n"
          ]
        }
      ],
      "source": [
        "def cartesian(arrays):\n",
        "    arrays = [np.asarray(a) for a in arrays]\n",
        "    shape = (len(x) for x in arrays)\n",
        "\n",
        "    ix = np.indices(shape, dtype=int)\n",
        "    ix = ix.reshape(len(arrays), -1).T\n",
        "\n",
        "    for n, arr in enumerate(arrays):\n",
        "        ix[:, n] = arrays[n][ix[:, n]]\n",
        "\n",
        "    return ix\n",
        "\n",
        "print (cartesian(([1, 2, 3], [4, 5], [6, 7])))"
      ]
    },
    {
      "cell_type": "markdown",
      "metadata": {
        "id": "xyISi5DwvPL_"
      },
      "source": [
        "#### **91. How to create a record array from a regular array?** (★★★) \n",
        "(**hint**: np.core.records.fromarrays)"
      ]
    },
    {
      "cell_type": "code",
      "execution_count": null,
      "metadata": {
        "id": "frVp9ZdRvPL_",
        "colab": {
          "base_uri": "https://localhost:8080/"
        },
        "outputId": "dada64fc-81cb-43b5-de50-ae588df47779"
      },
      "outputs": [
        {
          "output_type": "stream",
          "name": "stdout",
          "text": [
            "[(b'Welcome', 7.4, 3) (b'Home', 3.6, 2)]\n"
          ]
        }
      ],
      "source": [
        "Z = np.array([(\"Welcome\", 7.4, 3),\n",
        "              (\"Home\", 3.6, 2)])\n",
        "R = np.core.records.fromarrays(Z.T,\n",
        "                               names='col1, col2, col3',\n",
        "                               formats = 'S8, f8, i8')\n",
        "print(R)"
      ]
    },
    {
      "cell_type": "markdown",
      "metadata": {
        "id": "1rsan2GhvPL_"
      },
      "source": [
        "#### ***92. Consider a large vector Z, compute Z to the power of 3 using 3 different methods ***(★★★) \n",
        "(**hint**: np.power, \\*, np.einsum)"
      ]
    },
    {
      "cell_type": "code",
      "execution_count": null,
      "metadata": {
        "id": "VmK0zzohvPL_",
        "colab": {
          "base_uri": "https://localhost:8080/"
        },
        "outputId": "ec720152-efef-4bf4-8764-a1a3e8bdacf7"
      },
      "outputs": [
        {
          "output_type": "stream",
          "name": "stdout",
          "text": [
            "[0.07600733 0.82910578 0.14469145 ... 0.01943436 0.00301946 0.22869287]\n",
            "[0.07600733 0.82910578 0.14469145 ... 0.01943436 0.00301946 0.22869287]\n",
            "[0.07600733 0.82910578 0.14469145 ... 0.01943436 0.00301946 0.22869287]\n"
          ]
        }
      ],
      "source": [
        "x = np.random.rand(int(5e5))\n",
        "print(np.power(x,3))\n",
        "print(x*x*x)\n",
        "print(np.einsum('i,i,i->i',x,x,x))"
      ]
    },
    {
      "cell_type": "markdown",
      "metadata": {
        "id": "vW5pnZEvvPMA"
      },
      "source": [
        "####*** 93. Consider two arrays A and B of shape (8,3) and (2,2). How to find rows of A that contain elements of each row of B regardless of the order of the elements in B?*** (★★★) \n",
        "(**hint**: np.where)"
      ]
    },
    {
      "cell_type": "code",
      "execution_count": null,
      "metadata": {
        "id": "F7OUOEfrvPMA",
        "colab": {
          "base_uri": "https://localhost:8080/"
        },
        "outputId": "174290d5-12da-44d4-f4e4-d1abb42409df"
      },
      "outputs": [
        {
          "output_type": "stream",
          "name": "stdout",
          "text": [
            "[[2 0 3]\n",
            " [2 3 2]\n",
            " [0 4 2]\n",
            " [1 4 3]\n",
            " [4 3 2]\n",
            " [0 2 4]\n",
            " [1 2 1]\n",
            " [1 0 4]]\n",
            "[[3 1]\n",
            " [2 4]]\n",
            "[0 1 3 4 6 7]\n"
          ]
        }
      ],
      "source": [
        "A = np.random.randint(0,5,(8,3))\n",
        "B = np.random.randint(0,5,(2,2))\n",
        "print(A,B,sep='\\n')\n",
        "C = (A[..., np.newaxis, np.newaxis] == B)\n",
        "rows = np.where(C.any((3,1)).all(1))[0]\n",
        "print(rows)"
      ]
    },
    {
      "cell_type": "markdown",
      "metadata": {
        "id": "JqbQZFfmvPMA"
      },
      "source": [
        "#### **94. Considering a 10x3 matrix, extract rows with unequal values (e.g. \\[2,2,3\\])** (★★★)"
      ]
    },
    {
      "cell_type": "code",
      "execution_count": null,
      "metadata": {
        "id": "lxy3V1fwvPMA",
        "colab": {
          "base_uri": "https://localhost:8080/"
        },
        "outputId": "2aa8958e-7bd0-4fc6-9a5c-edcc1479a4bb"
      },
      "outputs": [
        {
          "output_type": "stream",
          "name": "stdout",
          "text": [
            "[[3 4 3]\n",
            " [1 3 0]\n",
            " [2 0 1]\n",
            " [2 2 2]\n",
            " [4 4 1]\n",
            " [4 4 2]\n",
            " [1 2 3]\n",
            " [4 3 4]\n",
            " [0 4 0]\n",
            " [2 4 4]]\n",
            "[[3 4 3]\n",
            " [1 3 0]\n",
            " [2 0 1]\n",
            " [4 4 1]\n",
            " [4 4 2]\n",
            " [1 2 3]\n",
            " [4 3 4]\n",
            " [0 4 0]\n",
            " [2 4 4]]\n"
          ]
        }
      ],
      "source": [
        "Z = np.random.randint(0,5,(10,3))\n",
        "print(Z)\n",
        "\n",
        "E = np.all(Z[:,1:] == Z[:,:-1], axis=1)\n",
        "U = Z[~E]\n",
        "print(U)"
      ]
    },
    {
      "cell_type": "markdown",
      "metadata": {
        "id": "UiRaErKXvPMH"
      },
      "source": [
        "#### **95. Convert a vector of ints into a matrix binary representation** (★★★) \n",
        "(**hint**: np.unpackbits)"
      ]
    },
    {
      "cell_type": "code",
      "execution_count": null,
      "metadata": {
        "id": "4DCNfGvcvPMI",
        "colab": {
          "base_uri": "https://localhost:8080/"
        },
        "outputId": "9b800019-696b-4694-af94-e2efe6463f7b"
      },
      "outputs": [
        {
          "output_type": "stream",
          "name": "stdout",
          "text": [
            "[[0 0 0 0 0 0 0 0]\n",
            " [0 0 0 0 0 0 0 1]\n",
            " [0 0 0 0 0 0 1 0]\n",
            " [0 0 0 0 0 0 1 1]\n",
            " [0 0 0 0 1 1 1 1]\n",
            " [0 0 0 1 0 0 0 0]\n",
            " [0 0 1 0 0 0 0 0]\n",
            " [0 1 0 0 0 0 0 0]\n",
            " [1 0 0 0 0 0 0 0]]\n"
          ]
        }
      ],
      "source": [
        "I = np.array([0, 1, 2, 3, 15, 16, 32, 64, 128], dtype=np.uint8)\n",
        "print(np.unpackbits(I[:, np.newaxis], axis=1))"
      ]
    },
    {
      "cell_type": "markdown",
      "metadata": {
        "id": "NNSL7lTcvPMJ"
      },
      "source": [
        "#### ***96. Given a two dimensional array, how to extract unique rows? ***(★★★) \n",
        "(**hint**: np.ascontiguousarray)"
      ]
    },
    {
      "cell_type": "code",
      "execution_count": null,
      "metadata": {
        "id": "5R2umT7rvPMJ",
        "colab": {
          "base_uri": "https://localhost:8080/"
        },
        "outputId": "e636fe58-ad3c-4360-9776-89257c68d107"
      },
      "outputs": [
        {
          "output_type": "stream",
          "name": "stdout",
          "text": [
            "[[1 2 3]\n",
            " [1 2 3]\n",
            " [1 2 3]\n",
            " [4 5 6]\n",
            " [7 8 9]]\n",
            "[[1 2 3]\n",
            " [4 5 6]\n",
            " [7 8 9]]\n"
          ]
        }
      ],
      "source": [
        "X = np.array([[1,2,3],[1,2,3],[1,2,3],[4,5,6],[7,8,9]])\n",
        "print(X)\n",
        "unique_rows = np.unique(X, axis=0)\n",
        "print(unique_rows)"
      ]
    },
    {
      "cell_type": "markdown",
      "metadata": {
        "id": "mp-nOGvJvPMJ"
      },
      "source": [
        "#### **97. Considering 2 vectors A & B, write the einsum equivalent of inner, outer, sum, and mul function** (★★★) \n",
        "(**hint**: np.einsum)"
      ]
    },
    {
      "cell_type": "code",
      "execution_count": null,
      "metadata": {
        "id": "AbASNlBmvPMJ",
        "colab": {
          "base_uri": "https://localhost:8080/"
        },
        "outputId": "b011b7a8-e32f-4fef-8567-42a6631bb172"
      },
      "outputs": [
        {
          "output_type": "stream",
          "name": "stdout",
          "text": [
            "[2. 2. 2. 2. 2.]\n",
            "[3. 3. 3. 3. 3.]\n",
            "Sum 10.0\n",
            "Product [6. 6. 6. 6. 6.]\n",
            "Inner 30.0\n",
            "Outer [[6. 6. 6. 6. 6.]\n",
            " [6. 6. 6. 6. 6.]\n",
            " [6. 6. 6. 6. 6.]\n",
            " [6. 6. 6. 6. 6.]\n",
            " [6. 6. 6. 6. 6.]]\n"
          ]
        }
      ],
      "source": [
        "#A = np.random.uniform(0,1,10)\n",
        "#B = np.random.uniform(0,1,10)\n",
        "A = 2*np.ones(5)\n",
        "B = 3*np.ones(5)\n",
        "print(A)\n",
        "print(B)\n",
        "print(\"Sum\", np.einsum('i->', A))      # np.sum(A)\n",
        "print(\"Product\",np.einsum('i,i->i', A, B)) # A * B\n",
        "print(\"Inner\",np.einsum('i,i', A, B))   # np.inner(A, B)\n",
        "print(\"Outer\",np.einsum('i,j->ij', A, B))    # np.outer(A, B)"
      ]
    },
    {
      "cell_type": "markdown",
      "metadata": {
        "id": "Cdc_6oWBvPMK"
      },
      "source": [
        "#### **98. Considering a path described by two vectors (X,Y), how to sample it using equidistant samples** (★★★)? \n",
        "(**hint**: np.cumsum, np.interp)"
      ]
    },
    {
      "cell_type": "code",
      "execution_count": null,
      "metadata": {
        "collapsed": true,
        "id": "FHnRT-dwvPMK"
      },
      "outputs": [],
      "source": [
        "phi = np.arange(0, 10*np.pi, 0.1)\n",
        "a = 1\n",
        "x = a*phi*np.cos(phi)\n",
        "y = a*phi*np.sin(phi)\n",
        "\n",
        "dr = (np.diff(x)**2 + np.diff(y)**2)**.5 # segment lengths\n",
        "r = np.zeros_like(x)\n",
        "r[1:] = np.cumsum(dr)                # integrate path\n",
        "r_int = np.linspace(0, r.max(), 200) # regular spaced path\n",
        "x_int = np.interp(r_int, r, x)       # integrate path\n",
        "y_int = np.interp(r_int, r, y)"
      ]
    },
    {
      "cell_type": "markdown",
      "metadata": {
        "id": "XLTtwQnovPMK"
      },
      "source": [
        "#### **99. Given an integer n and a 2D array X, select from X the rows which can be interpreted as draws from a multinomial distribution with n degrees, i.e., the rows which only contain integers and which sum to n.** (★★★) \n",
        "(**hint**: np.logical\\_and.reduce, np.mod)"
      ]
    },
    {
      "cell_type": "code",
      "execution_count": null,
      "metadata": {
        "id": "Vf4P3xu8vPMK",
        "colab": {
          "base_uri": "https://localhost:8080/"
        },
        "outputId": "efb86c3f-0d67-4468-d711-34f89912fc58"
      },
      "outputs": [
        {
          "output_type": "stream",
          "name": "stdout",
          "text": [
            "[[2. 0. 1. 1.]]\n"
          ]
        }
      ],
      "source": [
        "X = np.asarray([[1.0, 0.0, 3.0, 8.0],\n",
        "                [2.0, 0.0, 1.0, 1.0],\n",
        "                [1.5, 2.5, 1.0, 0.0]])\n",
        "n = 4\n",
        "M = np.logical_and.reduce(np.mod(X, 1) == 0, axis=-1)\n",
        "M &= (X.sum(axis=-1) == n)\n",
        "print(X[M])"
      ]
    },
    {
      "cell_type": "markdown",
      "metadata": {
        "id": "0CQN2tunvPML"
      },
      "source": [
        "#### **100. Compute bootstrapped 95% confidence intervals for the mean of a 1D array X (i.e., resample the elements of an array with replacement N times, compute the mean of each sample, and then compute percentiles over the means).** (★★★) \n",
        "(**hint**: np.percentile)"
      ]
    },
    {
      "cell_type": "code",
      "execution_count": null,
      "metadata": {
        "id": "vwyC6dd3vPMN",
        "colab": {
          "base_uri": "https://localhost:8080/"
        },
        "outputId": "4d046ca0-f935-4fc8-973a-daa988ef1673"
      },
      "outputs": [
        {
          "output_type": "stream",
          "name": "stdout",
          "text": [
            "[-0.08408551  0.22251101]\n"
          ]
        }
      ],
      "source": [
        "X = np.random.randn(100)\n",
        "N = 1000 # number of samples\n",
        "idx = np.random.randint(0, X.size, (N, X.size))\n",
        "means = X[idx].mean(axis=1)\n",
        "confidence = np.percentile(means, [5, 95])\n",
        "print(confidence)"
      ]
    }
  ],
  "metadata": {
    "kernelspec": {
      "display_name": "Python 3",
      "language": "python",
      "name": "python3"
    },
    "language_info": {
      "codemirror_mode": {
        "name": "ipython",
        "version": 3
      },
      "file_extension": ".py",
      "mimetype": "text/x-python",
      "name": "python",
      "nbconvert_exporter": "python",
      "pygments_lexer": "ipython3",
      "version": "3.8.3"
    },
    "colab": {
      "provenance": [],
      "collapsed_sections": [
        "fYgt_rWnvPK8",
        "clCghC3xvPK8",
        "KCJlAqU_vPLM",
        "Dn8QgQSIvPLM",
        "kFs9O-cFvPLN",
        "05WbLsl4vPLO",
        "-bZdUC1jvPLO",
        "rnTqsircvPLO",
        "UwaSyzEpvPLP",
        "fzBmf-cCvPLQ",
        "eSvTQUxIvPLR",
        "g62DK9eJvPLV",
        "oB-JzVEgvPLW"
      ],
      "include_colab_link": true
    }
  },
  "nbformat": 4,
  "nbformat_minor": 0
}